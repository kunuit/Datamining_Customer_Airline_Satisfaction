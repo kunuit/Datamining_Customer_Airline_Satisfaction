{
 "cells": [
  {
   "cell_type": "code",
   "execution_count": 1,
   "outputs": [],
   "source": [
    "\n",
    "import pandas as pd\n",
    "import numpy as np\n",
    "import matplotlib.pyplot as plt\n",
    "import seaborn as sns; sns.set()\n",
    "import datetime as dt\n",
    "\n",
    "%matplotlib inline\n"
   ],
   "metadata": {
    "collapsed": false,
    "pycharm": {
     "name": "#%%\n"
    }
   }
  },
  {
   "cell_type": "code",
   "execution_count": 2,
   "outputs": [],
   "source": [
    "df = pd.read_csv(\"data/Invistico_Airline_Main.csv\")"
   ],
   "metadata": {
    "collapsed": false,
    "pycharm": {
     "name": "#%%\n"
    }
   }
  },
  {
   "cell_type": "code",
   "execution_count": 3,
   "outputs": [
    {
     "name": "stdout",
     "output_type": "stream",
     "text": [
      "<class 'pandas.core.frame.DataFrame'>\n",
      "RangeIndex: 129880 entries, 0 to 129879\n",
      "Data columns (total 28 columns):\n",
      " #   Column                             Non-Null Count   Dtype  \n",
      "---  ------                             --------------   -----  \n",
      " 0   id                                 129880 non-null  int64  \n",
      " 1   satisfaction                       129880 non-null  object \n",
      " 2   Gender                             129880 non-null  object \n",
      " 3   Customer Type                      129880 non-null  object \n",
      " 4   Age                                129880 non-null  int64  \n",
      " 5   Type of Travel                     129880 non-null  object \n",
      " 6   Class                              129880 non-null  object \n",
      " 7   Flight Distance                    129880 non-null  int64  \n",
      " 8   Seat comfort                       129880 non-null  int64  \n",
      " 9   Departure/Arrival time convenient  129880 non-null  int64  \n",
      " 10  Food and drink                     129880 non-null  int64  \n",
      " 11  Gate location                      129880 non-null  int64  \n",
      " 12  Inflight wifi service              129880 non-null  int64  \n",
      " 13  Inflight entertainment             129880 non-null  int64  \n",
      " 14  Online support                     129880 non-null  int64  \n",
      " 15  Ease of Online booking             129880 non-null  int64  \n",
      " 16  On-board service                   129880 non-null  int64  \n",
      " 17  Leg room service                   129880 non-null  int64  \n",
      " 18  Baggage handling                   129880 non-null  int64  \n",
      " 19  Checkin service                    129880 non-null  int64  \n",
      " 20  Cleanliness                        129880 non-null  int64  \n",
      " 21  Online boarding                    129880 non-null  int64  \n",
      " 22  Departure Delay in Minutes         129880 non-null  int64  \n",
      " 23  Arrival Delay in Minutes           129487 non-null  float64\n",
      " 24  Day                                129880 non-null  int64  \n",
      " 25  Month                              129880 non-null  int64  \n",
      " 26  Year                               129880 non-null  int64  \n",
      " 27  Dates                              129880 non-null  object \n",
      "dtypes: float64(1), int64(21), object(6)\n",
      "memory usage: 27.7+ MB\n"
     ]
    }
   ],
   "source": [
    "df.info()"
   ],
   "metadata": {
    "collapsed": false,
    "pycharm": {
     "name": "#%%\n"
    }
   }
  },
  {
   "cell_type": "code",
   "execution_count": 4,
   "outputs": [
    {
     "data": {
      "text/plain": "satisfied       71087\ndissatisfied    58793\nName: satisfaction, dtype: int64"
     },
     "execution_count": 4,
     "metadata": {},
     "output_type": "execute_result"
    }
   ],
   "source": [
    "df.satisfaction.value_counts()"
   ],
   "metadata": {
    "collapsed": false,
    "pycharm": {
     "name": "#%%\n"
    }
   }
  },
  {
   "cell_type": "code",
   "execution_count": 5,
   "outputs": [
    {
     "data": {
      "text/plain": "<AxesSubplot:xlabel='satisfaction', ylabel='count'>"
     },
     "execution_count": 5,
     "metadata": {},
     "output_type": "execute_result"
    },
    {
     "data": {
      "text/plain": "<Figure size 432x288 with 1 Axes>",
      "image/png": "[encoded data removed]"
     },
     "metadata": {},
     "output_type": "display_data"
    }
   ],
   "source": [
    "sns.set_theme(style=\"darkgrid\")\n",
    "sns.countplot(x = 'satisfaction', data = df)"
   ],
   "metadata": {
    "collapsed": false,
    "pycharm": {
     "name": "#%%\n"
    }
   }
  },
  {
   "cell_type": "markdown",
   "source": [
    "sns.set_theme(style=\"darkgrid\")\n",
    "sns.countplot(x = 'satisfaction', data = df)"
   ],
   "metadata": {
    "collapsed": false
   }
  },
  {
   "cell_type": "code",
   "execution_count": 6,
   "outputs": [],
   "source": [
    "## can bang du lieu"
   ],
   "metadata": {
    "collapsed": false,
    "pycharm": {
     "name": "#%%\n"
    }
   }
  },
  {
   "cell_type": "code",
   "execution_count": 7,
   "outputs": [
    {
     "data": {
      "text/plain": "                                         id       Age  Flight Distance  \\\nid                                 1.000000  0.181230         0.108443   \nAge                                0.181230  1.000000        -0.249625   \nFlight Distance                    0.108443 -0.249625         1.000000   \nSeat comfort                       0.198972  0.008784        -0.042409   \nDeparture/Arrival time convenient -0.044141  0.039055         0.001350   \nFood and drink                     0.161804  0.015749        -0.004649   \nGate location                      0.015917 -0.000547        -0.002409   \nInflight wifi service              0.142490  0.013965         0.012230   \nInflight entertainment             0.364258  0.130511        -0.027542   \nOnline support                     0.231655  0.121201        -0.032022   \nEase of Online booking             0.302884  0.071594        -0.022299   \nOn-board service                   0.174654  0.066704        -0.032559   \nLeg room service                   0.188414  0.083762        -0.030316   \nBaggage handling                   0.128863 -0.015452         0.019768   \nCheckin service                    0.040144  0.031845         0.002456   \nCleanliness                        0.120974 -0.018271         0.009432   \nOnline boarding                    0.173266  0.037973         0.009604   \nDeparture Delay in Minutes        -0.010397 -0.009041         0.112555   \nArrival Delay in Minutes          -0.012594 -0.011248         0.110103   \nDay                                0.000112 -0.001427         0.001437   \nMonth                             -0.000516  0.000153         0.003263   \nYear                                    NaN       NaN              NaN   \n\n                                   Seat comfort  \\\nid                                     0.198972   \nAge                                    0.008784   \nFlight Distance                       -0.042409   \nSeat comfort                           1.000000   \nDeparture/Arrival time convenient      0.434951   \nFood and drink                         0.715997   \nGate location                          0.405300   \nInflight wifi service                  0.129131   \nInflight entertainment                 0.426447   \nOnline support                         0.120278   \nEase of Online booking                 0.211531   \nOn-board service                       0.121149   \nLeg room service                       0.136136   \nBaggage handling                       0.118489   \nCheckin service                        0.041214   \nCleanliness                            0.108475   \nOnline boarding                        0.130396   \nDeparture Delay in Minutes            -0.023817   \nArrival Delay in Minutes              -0.025506   \nDay                                    0.005675   \nMonth                                  0.003059   \nYear                                        NaN   \n\n                                   Departure/Arrival time convenient  \\\nid                                                         -0.044141   \nAge                                                         0.039055   \nFlight Distance                                             0.001350   \nSeat comfort                                                0.434951   \nDeparture/Arrival time convenient                           1.000000   \nFood and drink                                              0.527381   \nGate location                                               0.544259   \nInflight wifi service                                      -0.001974   \nInflight entertainment                                      0.077203   \nOnline support                                             -0.000546   \nEase of Online booking                                      0.001755   \nOn-board service                                            0.060446   \nLeg room service                                            0.029422   \nBaggage handling                                            0.067396   \nCheckin service                                             0.062794   \nCleanliness                                                 0.067126   \nOnline boarding                                            -0.000623   \nDeparture Delay in Minutes                                  0.004395   \nArrival Delay in Minutes                                    0.002599   \nDay                                                         0.009550   \nMonth                                                       0.002514   \nYear                                                             NaN   \n\n                                   Food and drink  Gate location  \\\nid                                       0.161804       0.015917   \nAge                                      0.015749      -0.000547   \nFlight Distance                         -0.004649      -0.002409   \nSeat comfort                             0.715997       0.405300   \nDeparture/Arrival time convenient        0.527381       0.544259   \nFood and drink                           1.000000       0.523328   \nGate location                            0.523328       1.000000   \nInflight wifi service                    0.025917      -0.004086   \nInflight entertainment                   0.367669      -0.000280   \nOnline support                           0.028554       0.002908   \nEase of Online booking                   0.041189       0.001442   \nOn-board service                         0.038646      -0.025132   \nLeg room service                         0.074161      -0.007407   \nBaggage handling                         0.036370      -0.000401   \nCheckin service                          0.011898      -0.031859   \nCleanliness                              0.033416      -0.001705   \nOnline boarding                          0.013587      -0.003043   \nDeparture Delay in Minutes              -0.013433       0.003962   \nArrival Delay in Minutes                -0.014881       0.003640   \nDay                                      0.005976       0.003609   \nMonth                                    0.003101       0.002599   \nYear                                          NaN            NaN   \n\n                                   Inflight wifi service  \\\nid                                              0.142490   \nAge                                             0.013965   \nFlight Distance                                 0.012230   \nSeat comfort                                    0.129131   \nDeparture/Arrival time convenient              -0.001974   \nFood and drink                                  0.025917   \nGate location                                  -0.004086   \nInflight wifi service                           1.000000   \nInflight entertainment                          0.253823   \nOnline support                                  0.557340   \nEase of Online booking                          0.601100   \nOn-board service                                0.060794   \nLeg room service                                0.033589   \nBaggage handling                                0.038251   \nCheckin service                                 0.092508   \nCleanliness                                     0.038263   \nOnline boarding                                 0.631786   \nDeparture Delay in Minutes                     -0.032900   \nArrival Delay in Minutes                       -0.035270   \nDay                                            -0.001252   \nMonth                                           0.002357   \nYear                                                 NaN   \n\n                                   Inflight entertainment  Online support  \\\nid                                               0.364258        0.231655   \nAge                                              0.130511        0.121201   \nFlight Distance                                 -0.027542       -0.032022   \nSeat comfort                                     0.426447        0.120278   \nDeparture/Arrival time convenient                0.077203       -0.000546   \nFood and drink                                   0.367669        0.028554   \nGate location                                   -0.000280        0.002908   \nInflight wifi service                            0.253823        0.557340   \nInflight entertainment                           1.000000        0.441957   \nOnline support                                   0.441957        1.000000   \nEase of Online booking                           0.321731        0.617489   \nOn-board service                                 0.183912        0.157930   \nLeg room service                                 0.160731        0.138433   \nBaggage handling                                 0.117213        0.102444   \nCheckin service                                  0.224120        0.206824   \nCleanliness                                      0.109451        0.095726   \nOnline boarding                                  0.355714        0.669843   \nDeparture Delay in Minutes                      -0.030491       -0.034018   \nArrival Delay in Minutes                        -0.033321       -0.036087   \nDay                                             -0.000222       -0.001271   \nMonth                                            0.003205        0.003877   \nYear                                                  NaN             NaN   \n\n                                   ...  Leg room service  Baggage handling  \\\nid                                 ...          0.188414          0.128863   \nAge                                ...          0.083762         -0.015452   \nFlight Distance                    ...         -0.030316          0.019768   \nSeat comfort                       ...          0.136136          0.118489   \nDeparture/Arrival time convenient  ...          0.029422          0.067396   \nFood and drink                     ...          0.074161          0.036370   \nGate location                      ...         -0.007407         -0.000401   \nInflight wifi service              ...          0.033589          0.038251   \nInflight entertainment             ...          0.160731          0.117213   \nOnline support                     ...          0.138433          0.102444   \nEase of Online booking             ...          0.355122          0.398322   \nOn-board service                   ...          0.411746          0.530448   \nLeg room service                   ...          1.000000          0.411640   \nBaggage handling                   ...          0.411640          1.000000   \nCheckin service                    ...          0.167942          0.240858   \nCleanliness                        ...          0.411505          0.631803   \nOnline boarding                    ...          0.112900          0.111920   \nDeparture Delay in Minutes         ...          0.003660         -0.009985   \nArrival Delay in Minutes           ...          0.000472         -0.014164   \nDay                                ...         -0.003057          0.003430   \nMonth                              ...         -0.003250         -0.003048   \nYear                               ...               NaN               NaN   \n\n                                   Checkin service  Cleanliness  \\\nid                                        0.040144     0.120974   \nAge                                       0.031845    -0.018271   \nFlight Distance                           0.002456     0.009432   \nSeat comfort                              0.041214     0.108475   \nDeparture/Arrival time convenient         0.062794     0.067126   \nFood and drink                            0.011898     0.033416   \nGate location                            -0.031859    -0.001705   \nInflight wifi service                     0.092508     0.038263   \nInflight entertainment                    0.224120     0.109451   \nOnline support                            0.206824     0.095726   \nEase of Online booking                    0.137744     0.417675   \nOn-board service                          0.250839     0.551294   \nLeg room service                          0.167942     0.411505   \nBaggage handling                          0.240858     0.631803   \nCheckin service                           1.000000     0.241734   \nCleanliness                               0.241734     1.000000   \nOnline boarding                           0.184344     0.106238   \nDeparture Delay in Minutes               -0.020896    -0.062134   \nArrival Delay in Minutes                 -0.023860    -0.067208   \nDay                                       0.000825     0.000189   \nMonth                                     0.001401    -0.000826   \nYear                                           NaN          NaN   \n\n                                   Online boarding  \\\nid                                        0.173266   \nAge                                       0.037973   \nFlight Distance                           0.009604   \nSeat comfort                              0.130396   \nDeparture/Arrival time convenient        -0.000623   \nFood and drink                            0.013587   \nGate location                            -0.003043   \nInflight wifi service                     0.631786   \nInflight entertainment                    0.355714   \nOnline support                            0.669843   \nEase of Online booking                    0.684320   \nOn-board service                          0.139506   \nLeg room service                          0.112900   \nBaggage handling                          0.111920   \nCheckin service                           0.184344   \nCleanliness                               0.106238   \nOnline boarding                           1.000000   \nDeparture Delay in Minutes               -0.020045   \nArrival Delay in Minutes                 -0.021784   \nDay                                      -0.000275   \nMonth                                     0.003646   \nYear                                           NaN   \n\n                                   Departure Delay in Minutes  \\\nid                                                  -0.010397   \nAge                                                 -0.009041   \nFlight Distance                                      0.112555   \nSeat comfort                                        -0.023817   \nDeparture/Arrival time convenient                    0.004395   \nFood and drink                                      -0.013433   \nGate location                                        0.003962   \nInflight wifi service                               -0.032900   \nInflight entertainment                              -0.030491   \nOnline support                                      -0.034018   \nEase of Online booking                              -0.036545   \nOn-board service                                    -0.037641   \nLeg room service                                     0.003660   \nBaggage handling                                    -0.009985   \nCheckin service                                     -0.020896   \nCleanliness                                         -0.062134   \nOnline boarding                                     -0.020045   \nDeparture Delay in Minutes                           1.000000   \nArrival Delay in Minutes                             0.965291   \nDay                                                  0.001972   \nMonth                                                0.000523   \nYear                                                      NaN   \n\n                                   Arrival Delay in Minutes       Day  \\\nid                                                -0.012594  0.000112   \nAge                                               -0.011248 -0.001427   \nFlight Distance                                    0.110103  0.001437   \nSeat comfort                                      -0.025506  0.005675   \nDeparture/Arrival time convenient                  0.002599  0.009550   \nFood and drink                                    -0.014881  0.005976   \nGate location                                      0.003640  0.003609   \nInflight wifi service                             -0.035270 -0.001252   \nInflight entertainment                            -0.033321 -0.000222   \nOnline support                                    -0.036087 -0.001271   \nEase of Online booking                            -0.039806  0.000028   \nOn-board service                                  -0.041456 -0.003007   \nLeg room service                                   0.000472 -0.003057   \nBaggage handling                                  -0.014164  0.003430   \nCheckin service                                   -0.023860  0.000825   \nCleanliness                                       -0.067208  0.000189   \nOnline boarding                                   -0.021784 -0.000275   \nDeparture Delay in Minutes                         0.965291  0.001972   \nArrival Delay in Minutes                           1.000000  0.002078   \nDay                                                0.002078  1.000000   \nMonth                                              0.000130  0.001637   \nYear                                                    NaN       NaN   \n\n                                      Month  Year  \nid                                -0.000516   NaN  \nAge                                0.000153   NaN  \nFlight Distance                    0.003263   NaN  \nSeat comfort                       0.003059   NaN  \nDeparture/Arrival time convenient  0.002514   NaN  \nFood and drink                     0.003101   NaN  \nGate location                      0.002599   NaN  \nInflight wifi service              0.002357   NaN  \nInflight entertainment             0.003205   NaN  \nOnline support                     0.003877   NaN  \nEase of Online booking             0.004330   NaN  \nOn-board service                   0.000104   NaN  \nLeg room service                  -0.003250   NaN  \nBaggage handling                  -0.003048   NaN  \nCheckin service                    0.001401   NaN  \nCleanliness                       -0.000826   NaN  \nOnline boarding                    0.003646   NaN  \nDeparture Delay in Minutes         0.000523   NaN  \nArrival Delay in Minutes           0.000130   NaN  \nDay                                0.001637   NaN  \nMonth                              1.000000   NaN  \nYear                                    NaN   NaN  \n\n[22 rows x 22 columns]",
      "text/html": "<div>\n<style scoped>\n    .dataframe tbody tr th:only-of-type {\n        vertical-align: middle;\n    }\n\n    .dataframe tbody tr th {\n        vertical-align: top;\n    }\n\n    .dataframe thead th {\n        text-align: right;\n    }\n</style>\n<table border=\"1\" class=\"dataframe\">\n  <thead>\n    <tr style=\"text-align: right;\">\n      <th></th>\n      <th>id</th>\n      <th>Age</th>\n      <th>Flight Distance</th>\n      <th>Seat comfort</th>\n      <th>Departure/Arrival time convenient</th>\n      <th>Food and drink</th>\n      <th>Gate location</th>\n      <th>Inflight wifi service</th>\n      <th>Inflight entertainment</th>\n      <th>Online support</th>\n      <th>...</th>\n      <th>Leg room service</th>\n      <th>Baggage handling</th>\n      <th>Checkin service</th>\n      <th>Cleanliness</th>\n      <th>Online boarding</th>\n      <th>Departure Delay in Minutes</th>\n      <th>Arrival Delay in Minutes</th>\n      <th>Day</th>\n      <th>Month</th>\n      <th>Year</th>\n    </tr>\n  </thead>\n  <tbody>\n    <tr>\n      <th>id</th>\n      <td>1.000000</td>\n      <td>0.181230</td>\n      <td>0.108443</td>\n      <td>0.198972</td>\n      <td>-0.044141</td>\n      <td>0.161804</td>\n      <td>0.015917</td>\n      <td>0.142490</td>\n      <td>0.364258</td>\n      <td>0.231655</td>\n      <td>...</td>\n      <td>0.188414</td>\n      <td>0.128863</td>\n      <td>0.040144</td>\n      <td>0.120974</td>\n      <td>0.173266</td>\n      <td>-0.010397</td>\n      <td>-0.012594</td>\n      <td>0.000112</td>\n      <td>-0.000516</td>\n      <td>NaN</td>\n    </tr>\n    <tr>\n      <th>Age</th>\n      <td>0.181230</td>\n      <td>1.000000</td>\n      <td>-0.249625</td>\n      <td>0.008784</td>\n      <td>0.039055</td>\n      <td>0.015749</td>\n      <td>-0.000547</td>\n      <td>0.013965</td>\n      <td>0.130511</td>\n      <td>0.121201</td>\n      <td>...</td>\n      <td>0.083762</td>\n      <td>-0.015452</td>\n      <td>0.031845</td>\n      <td>-0.018271</td>\n      <td>0.037973</td>\n      <td>-0.009041</td>\n      <td>-0.011248</td>\n      <td>-0.001427</td>\n      <td>0.000153</td>\n      <td>NaN</td>\n    </tr>\n    <tr>\n      <th>Flight Distance</th>\n      <td>0.108443</td>\n      <td>-0.249625</td>\n      <td>1.000000</td>\n      <td>-0.042409</td>\n      <td>0.001350</td>\n      <td>-0.004649</td>\n      <td>-0.002409</td>\n      <td>0.012230</td>\n      <td>-0.027542</td>\n      <td>-0.032022</td>\n      <td>...</td>\n      <td>-0.030316</td>\n      <td>0.019768</td>\n      <td>0.002456</td>\n      <td>0.009432</td>\n      <td>0.009604</td>\n      <td>0.112555</td>\n      <td>0.110103</td>\n      <td>0.001437</td>\n      <td>0.003263</td>\n      <td>NaN</td>\n    </tr>\n    <tr>\n      <th>Seat comfort</th>\n      <td>0.198972</td>\n      <td>0.008784</td>\n      <td>-0.042409</td>\n      <td>1.000000</td>\n      <td>0.434951</td>\n      <td>0.715997</td>\n      <td>0.405300</td>\n      <td>0.129131</td>\n      <td>0.426447</td>\n      <td>0.120278</td>\n      <td>...</td>\n      <td>0.136136</td>\n      <td>0.118489</td>\n      <td>0.041214</td>\n      <td>0.108475</td>\n      <td>0.130396</td>\n      <td>-0.023817</td>\n      <td>-0.025506</td>\n      <td>0.005675</td>\n      <td>0.003059</td>\n      <td>NaN</td>\n    </tr>\n    <tr>\n      <th>Departure/Arrival time convenient</th>\n      <td>-0.044141</td>\n      <td>0.039055</td>\n      <td>0.001350</td>\n      <td>0.434951</td>\n      <td>1.000000</td>\n      <td>0.527381</td>\n      <td>0.544259</td>\n      <td>-0.001974</td>\n      <td>0.077203</td>\n      <td>-0.000546</td>\n      <td>...</td>\n      <td>0.029422</td>\n      <td>0.067396</td>\n      <td>0.062794</td>\n      <td>0.067126</td>\n      <td>-0.000623</td>\n      <td>0.004395</td>\n      <td>0.002599</td>\n      <td>0.009550</td>\n      <td>0.002514</td>\n      <td>NaN</td>\n    </tr>\n    <tr>\n      <th>Food and drink</th>\n      <td>0.161804</td>\n      <td>0.015749</td>\n      <td>-0.004649</td>\n      <td>0.715997</td>\n      <td>0.527381</td>\n      <td>1.000000</td>\n      <td>0.523328</td>\n      <td>0.025917</td>\n      <td>0.367669</td>\n      <td>0.028554</td>\n      <td>...</td>\n      <td>0.074161</td>\n      <td>0.036370</td>\n      <td>0.011898</td>\n      <td>0.033416</td>\n      <td>0.013587</td>\n      <td>-0.013433</td>\n      <td>-0.014881</td>\n      <td>0.005976</td>\n      <td>0.003101</td>\n      <td>NaN</td>\n    </tr>\n    <tr>\n      <th>Gate location</th>\n      <td>0.015917</td>\n      <td>-0.000547</td>\n      <td>-0.002409</td>\n      <td>0.405300</td>\n      <td>0.544259</td>\n      <td>0.523328</td>\n      <td>1.000000</td>\n      <td>-0.004086</td>\n      <td>-0.000280</td>\n      <td>0.002908</td>\n      <td>...</td>\n      <td>-0.007407</td>\n      <td>-0.000401</td>\n      <td>-0.031859</td>\n      <td>-0.001705</td>\n      <td>-0.003043</td>\n      <td>0.003962</td>\n      <td>0.003640</td>\n      <td>0.003609</td>\n      <td>0.002599</td>\n      <td>NaN</td>\n    </tr>\n    <tr>\n      <th>Inflight wifi service</th>\n      <td>0.142490</td>\n      <td>0.013965</td>\n      <td>0.012230</td>\n      <td>0.129131</td>\n      <td>-0.001974</td>\n      <td>0.025917</td>\n      <td>-0.004086</td>\n      <td>1.000000</td>\n      <td>0.253823</td>\n      <td>0.557340</td>\n      <td>...</td>\n      <td>0.033589</td>\n      <td>0.038251</td>\n      <td>0.092508</td>\n      <td>0.038263</td>\n      <td>0.631786</td>\n      <td>-0.032900</td>\n      <td>-0.035270</td>\n      <td>-0.001252</td>\n      <td>0.002357</td>\n      <td>NaN</td>\n    </tr>\n    <tr>\n      <th>Inflight entertainment</th>\n      <td>0.364258</td>\n      <td>0.130511</td>\n      <td>-0.027542</td>\n      <td>0.426447</td>\n      <td>0.077203</td>\n      <td>0.367669</td>\n      <td>-0.000280</td>\n      <td>0.253823</td>\n      <td>1.000000</td>\n      <td>0.441957</td>\n      <td>...</td>\n      <td>0.160731</td>\n      <td>0.117213</td>\n      <td>0.224120</td>\n      <td>0.109451</td>\n      <td>0.355714</td>\n      <td>-0.030491</td>\n      <td>-0.033321</td>\n      <td>-0.000222</td>\n      <td>0.003205</td>\n      <td>NaN</td>\n    </tr>\n    <tr>\n      <th>Online support</th>\n      <td>0.231655</td>\n      <td>0.121201</td>\n      <td>-0.032022</td>\n      <td>0.120278</td>\n      <td>-0.000546</td>\n      <td>0.028554</td>\n      <td>0.002908</td>\n      <td>0.557340</td>\n      <td>0.441957</td>\n      <td>1.000000</td>\n      <td>...</td>\n      <td>0.138433</td>\n      <td>0.102444</td>\n      <td>0.206824</td>\n      <td>0.095726</td>\n      <td>0.669843</td>\n      <td>-0.034018</td>\n      <td>-0.036087</td>\n      <td>-0.001271</td>\n      <td>0.003877</td>\n      <td>NaN</td>\n    </tr>\n    <tr>\n      <th>Ease of Online booking</th>\n      <td>0.302884</td>\n      <td>0.071594</td>\n      <td>-0.022299</td>\n      <td>0.211531</td>\n      <td>0.001755</td>\n      <td>0.041189</td>\n      <td>0.001442</td>\n      <td>0.601100</td>\n      <td>0.321731</td>\n      <td>0.617489</td>\n      <td>...</td>\n      <td>0.355122</td>\n      <td>0.398322</td>\n      <td>0.137744</td>\n      <td>0.417675</td>\n      <td>0.684320</td>\n      <td>-0.036545</td>\n      <td>-0.039806</td>\n      <td>0.000028</td>\n      <td>0.004330</td>\n      <td>NaN</td>\n    </tr>\n    <tr>\n      <th>On-board service</th>\n      <td>0.174654</td>\n      <td>0.066704</td>\n      <td>-0.032559</td>\n      <td>0.121149</td>\n      <td>0.060446</td>\n      <td>0.038646</td>\n      <td>-0.025132</td>\n      <td>0.060794</td>\n      <td>0.183912</td>\n      <td>0.157930</td>\n      <td>...</td>\n      <td>0.411746</td>\n      <td>0.530448</td>\n      <td>0.250839</td>\n      <td>0.551294</td>\n      <td>0.139506</td>\n      <td>-0.037641</td>\n      <td>-0.041456</td>\n      <td>-0.003007</td>\n      <td>0.000104</td>\n      <td>NaN</td>\n    </tr>\n    <tr>\n      <th>Leg room service</th>\n      <td>0.188414</td>\n      <td>0.083762</td>\n      <td>-0.030316</td>\n      <td>0.136136</td>\n      <td>0.029422</td>\n      <td>0.074161</td>\n      <td>-0.007407</td>\n      <td>0.033589</td>\n      <td>0.160731</td>\n      <td>0.138433</td>\n      <td>...</td>\n      <td>1.000000</td>\n      <td>0.411640</td>\n      <td>0.167942</td>\n      <td>0.411505</td>\n      <td>0.112900</td>\n      <td>0.003660</td>\n      <td>0.000472</td>\n      <td>-0.003057</td>\n      <td>-0.003250</td>\n      <td>NaN</td>\n    </tr>\n    <tr>\n      <th>Baggage handling</th>\n      <td>0.128863</td>\n      <td>-0.015452</td>\n      <td>0.019768</td>\n      <td>0.118489</td>\n      <td>0.067396</td>\n      <td>0.036370</td>\n      <td>-0.000401</td>\n      <td>0.038251</td>\n      <td>0.117213</td>\n      <td>0.102444</td>\n      <td>...</td>\n      <td>0.411640</td>\n      <td>1.000000</td>\n      <td>0.240858</td>\n      <td>0.631803</td>\n      <td>0.111920</td>\n      <td>-0.009985</td>\n      <td>-0.014164</td>\n      <td>0.003430</td>\n      <td>-0.003048</td>\n      <td>NaN</td>\n    </tr>\n    <tr>\n      <th>Checkin service</th>\n      <td>0.040144</td>\n      <td>0.031845</td>\n      <td>0.002456</td>\n      <td>0.041214</td>\n      <td>0.062794</td>\n      <td>0.011898</td>\n      <td>-0.031859</td>\n      <td>0.092508</td>\n      <td>0.224120</td>\n      <td>0.206824</td>\n      <td>...</td>\n      <td>0.167942</td>\n      <td>0.240858</td>\n      <td>1.000000</td>\n      <td>0.241734</td>\n      <td>0.184344</td>\n      <td>-0.020896</td>\n      <td>-0.023860</td>\n      <td>0.000825</td>\n      <td>0.001401</td>\n      <td>NaN</td>\n    </tr>\n    <tr>\n      <th>Cleanliness</th>\n      <td>0.120974</td>\n      <td>-0.018271</td>\n      <td>0.009432</td>\n      <td>0.108475</td>\n      <td>0.067126</td>\n      <td>0.033416</td>\n      <td>-0.001705</td>\n      <td>0.038263</td>\n      <td>0.109451</td>\n      <td>0.095726</td>\n      <td>...</td>\n      <td>0.411505</td>\n      <td>0.631803</td>\n      <td>0.241734</td>\n      <td>1.000000</td>\n      <td>0.106238</td>\n      <td>-0.062134</td>\n      <td>-0.067208</td>\n      <td>0.000189</td>\n      <td>-0.000826</td>\n      <td>NaN</td>\n    </tr>\n    <tr>\n      <th>Online boarding</th>\n      <td>0.173266</td>\n      <td>0.037973</td>\n      <td>0.009604</td>\n      <td>0.130396</td>\n      <td>-0.000623</td>\n      <td>0.013587</td>\n      <td>-0.003043</td>\n      <td>0.631786</td>\n      <td>0.355714</td>\n      <td>0.669843</td>\n      <td>...</td>\n      <td>0.112900</td>\n      <td>0.111920</td>\n      <td>0.184344</td>\n      <td>0.106238</td>\n      <td>1.000000</td>\n      <td>-0.020045</td>\n      <td>-0.021784</td>\n      <td>-0.000275</td>\n      <td>0.003646</td>\n      <td>NaN</td>\n    </tr>\n    <tr>\n      <th>Departure Delay in Minutes</th>\n      <td>-0.010397</td>\n      <td>-0.009041</td>\n      <td>0.112555</td>\n      <td>-0.023817</td>\n      <td>0.004395</td>\n      <td>-0.013433</td>\n      <td>0.003962</td>\n      <td>-0.032900</td>\n      <td>-0.030491</td>\n      <td>-0.034018</td>\n      <td>...</td>\n      <td>0.003660</td>\n      <td>-0.009985</td>\n      <td>-0.020896</td>\n      <td>-0.062134</td>\n      <td>-0.020045</td>\n      <td>1.000000</td>\n      <td>0.965291</td>\n      <td>0.001972</td>\n      <td>0.000523</td>\n      <td>NaN</td>\n    </tr>\n    <tr>\n      <th>Arrival Delay in Minutes</th>\n      <td>-0.012594</td>\n      <td>-0.011248</td>\n      <td>0.110103</td>\n      <td>-0.025506</td>\n      <td>0.002599</td>\n      <td>-0.014881</td>\n      <td>0.003640</td>\n      <td>-0.035270</td>\n      <td>-0.033321</td>\n      <td>-0.036087</td>\n      <td>...</td>\n      <td>0.000472</td>\n      <td>-0.014164</td>\n      <td>-0.023860</td>\n      <td>-0.067208</td>\n      <td>-0.021784</td>\n      <td>0.965291</td>\n      <td>1.000000</td>\n      <td>0.002078</td>\n      <td>0.000130</td>\n      <td>NaN</td>\n    </tr>\n    <tr>\n      <th>Day</th>\n      <td>0.000112</td>\n      <td>-0.001427</td>\n      <td>0.001437</td>\n      <td>0.005675</td>\n      <td>0.009550</td>\n      <td>0.005976</td>\n      <td>0.003609</td>\n      <td>-0.001252</td>\n      <td>-0.000222</td>\n      <td>-0.001271</td>\n      <td>...</td>\n      <td>-0.003057</td>\n      <td>0.003430</td>\n      <td>0.000825</td>\n      <td>0.000189</td>\n      <td>-0.000275</td>\n      <td>0.001972</td>\n      <td>0.002078</td>\n      <td>1.000000</td>\n      <td>0.001637</td>\n      <td>NaN</td>\n    </tr>\n    <tr>\n      <th>Month</th>\n      <td>-0.000516</td>\n      <td>0.000153</td>\n      <td>0.003263</td>\n      <td>0.003059</td>\n      <td>0.002514</td>\n      <td>0.003101</td>\n      <td>0.002599</td>\n      <td>0.002357</td>\n      <td>0.003205</td>\n      <td>0.003877</td>\n      <td>...</td>\n      <td>-0.003250</td>\n      <td>-0.003048</td>\n      <td>0.001401</td>\n      <td>-0.000826</td>\n      <td>0.003646</td>\n      <td>0.000523</td>\n      <td>0.000130</td>\n      <td>0.001637</td>\n      <td>1.000000</td>\n      <td>NaN</td>\n    </tr>\n    <tr>\n      <th>Year</th>\n      <td>NaN</td>\n      <td>NaN</td>\n      <td>NaN</td>\n      <td>NaN</td>\n      <td>NaN</td>\n      <td>NaN</td>\n      <td>NaN</td>\n      <td>NaN</td>\n      <td>NaN</td>\n      <td>NaN</td>\n      <td>...</td>\n      <td>NaN</td>\n      <td>NaN</td>\n      <td>NaN</td>\n      <td>NaN</td>\n      <td>NaN</td>\n      <td>NaN</td>\n      <td>NaN</td>\n      <td>NaN</td>\n      <td>NaN</td>\n      <td>NaN</td>\n    </tr>\n  </tbody>\n</table>\n<p>22 rows × 22 columns</p>\n</div>"
     },
     "execution_count": 7,
     "metadata": {},
     "output_type": "execute_result"
    }
   ],
   "source": [
    "df.corr()"
   ],
   "metadata": {
    "collapsed": false,
    "pycharm": {
     "name": "#%%\n"
    }
   }
  },
  {
   "cell_type": "code",
   "execution_count": 8,
   "outputs": [
    {
     "data": {
      "text/plain": "<Figure size 1584x1224 with 2 Axes>",
      "image/png": "[encoded data removed]"
     },
     "metadata": {},
     "output_type": "display_data"
    }
   ],
   "source": [
    "# Use heatmap to visualize correlation table\n",
    "sns.set_theme(style=\"darkgrid\")\n",
    "corr_m = df.corr()\n",
    "fig, ax = plt.subplots(figsize=(22,17))\n",
    "ax = sns.heatmap(corr_m,\n",
    "                 annot=True,\n",
    "                 linewidth=0.9,\n",
    "                 fmt='.2f',\n",
    "                 cmap='YlOrRd',\n",
    "                 cbar=True);\n"
   ],
   "metadata": {
    "collapsed": false,
    "pycharm": {
     "name": "#%%\n"
    }
   }
  },
  {
   "cell_type": "code",
   "execution_count": 34,
   "outputs": [],
   "source": [
    "## chay cai nay xong chay lai 2 cai corr dưới\n",
    "df.drop(columns=[\"Year\"], inplace=True)"
   ],
   "metadata": {
    "collapsed": false,
    "pycharm": {
     "name": "#%%\n"
    }
   }
  },
  {
   "cell_type": "code",
   "execution_count": null,
   "outputs": [],
   "source": [],
   "metadata": {
    "collapsed": false,
    "pycharm": {
     "name": "#%%\n"
    }
   }
  },
  {
   "cell_type": "code",
   "execution_count": 35,
   "outputs": [
    {
     "data": {
      "text/plain": "<Figure size 1584x1224 with 2 Axes>",
      "image/png": "[encoded data removed]"
     },
     "metadata": {},
     "output_type": "display_data"
    }
   ],
   "source": [
    "# Use heatmap to visualize correlation table\n",
    "sns.set_theme(style=\"darkgrid\")\n",
    "corr_m = df.corr()\n",
    "fig, ax = plt.subplots(figsize=(22,17))\n",
    "ax = sns.heatmap(corr_m,\n",
    "                 annot=True,\n",
    "                 linewidth=0.9,\n",
    "                 fmt='.2f',\n",
    "                 cmap='YlOrRd',\n",
    "                 cbar=True);\n"
   ],
   "metadata": {
    "collapsed": false,
    "pycharm": {
     "name": "#%%\n"
    }
   }
  },
  {
   "cell_type": "code",
   "execution_count": 9,
   "outputs": [
    {
     "data": {
      "text/plain": "Female    65899\nMale      63981\nName: Gender, dtype: int64"
     },
     "execution_count": 9,
     "metadata": {},
     "output_type": "execute_result"
    }
   ],
   "source": [
    "# Check the value of different columns\n",
    "df.Gender.value_counts()"
   ],
   "metadata": {
    "collapsed": false,
    "pycharm": {
     "name": "#%%\n"
    }
   }
  },
  {
   "cell_type": "code",
   "execution_count": 10,
   "outputs": [
    {
     "data": {
      "text/plain": "True"
     },
     "execution_count": 10,
     "metadata": {},
     "output_type": "execute_result"
    }
   ],
   "source": [
    "pd.api.types.is_string_dtype(df['Gender'])"
   ],
   "metadata": {
    "collapsed": false,
    "pycharm": {
     "name": "#%%\n"
    }
   }
  },
  {
   "cell_type": "code",
   "execution_count": 11,
   "outputs": [
    {
     "data": {
      "text/plain": "['satisfaction', 'Gender', 'Customer Type', 'Type of Travel', 'Class', 'Dates']"
     },
     "execution_count": 11,
     "metadata": {},
     "output_type": "execute_result"
    }
   ],
   "source": [
    "\n",
    "# Find the columns which contain strings\n",
    "[label for label, content in df.items() if pd.api.types.is_string_dtype(content)]"
   ],
   "metadata": {
    "collapsed": false,
    "pycharm": {
     "name": "#%%\n"
    }
   }
  },
  {
   "cell_type": "code",
   "execution_count": 14,
   "outputs": [],
   "source": [
    "# Convert all columns with string values into category values\n",
    "for label, content in df.items():\n",
    "    if pd.api.types.is_string_dtype(content):\n",
    "        df[label] = content.astype('category').cat.as_ordered()"
   ],
   "metadata": {
    "collapsed": false,
    "pycharm": {
     "name": "#%%\n"
    }
   }
  },
  {
   "cell_type": "code",
   "execution_count": 15,
   "outputs": [
    {
     "name": "stdout",
     "output_type": "stream",
     "text": [
      "<class 'pandas.core.frame.DataFrame'>\n",
      "RangeIndex: 129880 entries, 0 to 129879\n",
      "Data columns (total 28 columns):\n",
      " #   Column                             Non-Null Count   Dtype   \n",
      "---  ------                             --------------   -----   \n",
      " 0   id                                 129880 non-null  int64   \n",
      " 1   satisfaction                       129880 non-null  category\n",
      " 2   Gender                             129880 non-null  category\n",
      " 3   Customer Type                      129880 non-null  category\n",
      " 4   Age                                129880 non-null  int64   \n",
      " 5   Type of Travel                     129880 non-null  category\n",
      " 6   Class                              129880 non-null  category\n",
      " 7   Flight Distance                    129880 non-null  int64   \n",
      " 8   Seat comfort                       129880 non-null  int64   \n",
      " 9   Departure/Arrival time convenient  129880 non-null  int64   \n",
      " 10  Food and drink                     129880 non-null  int64   \n",
      " 11  Gate location                      129880 non-null  int64   \n",
      " 12  Inflight wifi service              129880 non-null  int64   \n",
      " 13  Inflight entertainment             129880 non-null  int64   \n",
      " 14  Online support                     129880 non-null  int64   \n",
      " 15  Ease of Online booking             129880 non-null  int64   \n",
      " 16  On-board service                   129880 non-null  int64   \n",
      " 17  Leg room service                   129880 non-null  int64   \n",
      " 18  Baggage handling                   129880 non-null  int64   \n",
      " 19  Checkin service                    129880 non-null  int64   \n",
      " 20  Cleanliness                        129880 non-null  int64   \n",
      " 21  Online boarding                    129880 non-null  int64   \n",
      " 22  Departure Delay in Minutes         129880 non-null  int64   \n",
      " 23  Arrival Delay in Minutes           129487 non-null  float64 \n",
      " 24  Day                                129880 non-null  int64   \n",
      " 25  Month                              129880 non-null  int64   \n",
      " 26  Year                               129880 non-null  int64   \n",
      " 27  Dates                              129880 non-null  category\n",
      "dtypes: category(6), float64(1), int64(21)\n",
      "memory usage: 22.7 MB\n"
     ]
    }
   ],
   "source": [
    "df.info()"
   ],
   "metadata": {
    "collapsed": false,
    "pycharm": {
     "name": "#%%\n"
    }
   }
  },
  {
   "cell_type": "code",
   "execution_count": 16,
   "outputs": [
    {
     "data": {
      "text/plain": "Index(['Female', 'Male'], dtype='object')"
     },
     "execution_count": 16,
     "metadata": {},
     "output_type": "execute_result"
    }
   ],
   "source": [
    "df.Gender.cat.categories"
   ],
   "metadata": {
    "collapsed": false,
    "pycharm": {
     "name": "#%%\n"
    }
   }
  },
  {
   "cell_type": "code",
   "execution_count": 17,
   "outputs": [
    {
     "data": {
      "text/plain": "0         0\n1         1\n2         0\n3         0\n4         0\n         ..\n129875    0\n129876    1\n129877    1\n129878    1\n129879    0\nLength: 129880, dtype: int8"
     },
     "execution_count": 17,
     "metadata": {},
     "output_type": "execute_result"
    }
   ],
   "source": [
    "df.Gender.cat.codes"
   ],
   "metadata": {
    "collapsed": false,
    "pycharm": {
     "name": "#%%\n"
    }
   }
  },
  {
   "cell_type": "code",
   "execution_count": 18,
   "outputs": [
    {
     "data": {
      "text/plain": "id                                   0.000000\nsatisfaction                         0.000000\nGender                               0.000000\nCustomer Type                        0.000000\nAge                                  0.000000\nType of Travel                       0.000000\nClass                                0.000000\nFlight Distance                      0.000000\nSeat comfort                         0.000000\nDeparture/Arrival time convenient    0.000000\nFood and drink                       0.000000\nGate location                        0.000000\nInflight wifi service                0.000000\nInflight entertainment               0.000000\nOnline support                       0.000000\nEase of Online booking               0.000000\nOn-board service                     0.000000\nLeg room service                     0.000000\nBaggage handling                     0.000000\nCheckin service                      0.000000\nCleanliness                          0.000000\nOnline boarding                      0.000000\nDeparture Delay in Minutes           0.000000\nArrival Delay in Minutes             0.003026\nDay                                  0.000000\nMonth                                0.000000\nYear                                 0.000000\nDates                                0.000000\ndtype: float64"
     },
     "execution_count": 18,
     "metadata": {},
     "output_type": "execute_result"
    }
   ],
   "source": [
    "# Check missing data\n",
    "df.isnull().sum()/len(df)"
   ],
   "metadata": {
    "collapsed": false,
    "pycharm": {
     "name": "#%%\n"
    }
   }
  },
  {
   "cell_type": "markdown",
   "source": [
    "## Fill missing values\n",
    "\n",
    "### Fill numeric values first"
   ],
   "metadata": {
    "collapsed": false
   }
  },
  {
   "cell_type": "code",
   "execution_count": 20,
   "outputs": [
    {
     "data": {
      "text/plain": "['id',\n 'Age',\n 'Flight Distance',\n 'Seat comfort',\n 'Departure/Arrival time convenient',\n 'Food and drink',\n 'Gate location',\n 'Inflight wifi service',\n 'Inflight entertainment',\n 'Online support',\n 'Ease of Online booking',\n 'On-board service',\n 'Leg room service',\n 'Baggage handling',\n 'Checkin service',\n 'Cleanliness',\n 'Online boarding',\n 'Departure Delay in Minutes',\n 'Arrival Delay in Minutes',\n 'Day',\n 'Month',\n 'Year']"
     },
     "execution_count": 20,
     "metadata": {},
     "output_type": "execute_result"
    }
   ],
   "source": [
    "# Find the columns with numeric type\n",
    "[label for label, content in df.items() if pd.api.types.is_numeric_dtype(content)]"
   ],
   "metadata": {
    "collapsed": false,
    "pycharm": {
     "name": "#%%\n"
    }
   }
  },
  {
   "cell_type": "code",
   "execution_count": 21,
   "outputs": [
    {
     "name": "stdout",
     "output_type": "stream",
     "text": [
      "Arrival Delay in Minutes\n"
     ]
    }
   ],
   "source": [
    "# Check for which numeric columns have null values\n",
    "for label, content in df.items():\n",
    "    if pd.api.types.is_numeric_dtype(content):\n",
    "        if pd.isnull(content).sum():\n",
    "            print(label)"
   ],
   "metadata": {
    "collapsed": false,
    "pycharm": {
     "name": "#%%\n"
    }
   }
  },
  {
   "cell_type": "code",
   "execution_count": 22,
   "outputs": [],
   "source": [
    "# Fill numeric null columns with median\n",
    "for label, content in df.items():\n",
    "    if pd.api.types.is_numeric_dtype(content):\n",
    "        if pd.isnull(content).sum():\n",
    "            # Add a binary column which tells us if data was missing\n",
    "            # df[label+\"_is_missing\"] = pd.isnull(content)\n",
    "            # Fill missing numeric values with median\n",
    "            df[label] = content.fillna(content.median())"
   ],
   "metadata": {
    "collapsed": false,
    "pycharm": {
     "name": "#%%\n"
    }
   }
  },
  {
   "cell_type": "code",
   "execution_count": 23,
   "outputs": [
    {
     "data": {
      "text/plain": "[]"
     },
     "execution_count": 23,
     "metadata": {},
     "output_type": "execute_result"
    }
   ],
   "source": [
    "# Find the columns with numeric type\n",
    "[label for label, content in df.items() if pd.api.types.is_numeric_dtype(content) if pd.isnull(content).sum()]"
   ],
   "metadata": {
    "collapsed": false,
    "pycharm": {
     "name": "#%%\n"
    }
   }
  },
  {
   "cell_type": "code",
   "execution_count": 24,
   "outputs": [],
   "source": [
    "# Check how many examples were missing\n",
    "# df.cost_po_is_missing.value_counts()"
   ],
   "metadata": {
    "collapsed": false,
    "pycharm": {
     "name": "#%%\n"
    }
   }
  },
  {
   "cell_type": "code",
   "execution_count": 25,
   "outputs": [
    {
     "data": {
      "text/plain": "id                                   0\nsatisfaction                         0\nGender                               0\nCustomer Type                        0\nAge                                  0\nType of Travel                       0\nClass                                0\nFlight Distance                      0\nSeat comfort                         0\nDeparture/Arrival time convenient    0\nFood and drink                       0\nGate location                        0\nInflight wifi service                0\nInflight entertainment               0\nOnline support                       0\nEase of Online booking               0\nOn-board service                     0\nLeg room service                     0\nBaggage handling                     0\nCheckin service                      0\nCleanliness                          0\nOnline boarding                      0\nDeparture Delay in Minutes           0\nArrival Delay in Minutes             0\nDay                                  0\nMonth                                0\nYear                                 0\nDates                                0\ndtype: int64"
     },
     "execution_count": 25,
     "metadata": {},
     "output_type": "execute_result"
    }
   ],
   "source": [
    "df.isna().sum()"
   ],
   "metadata": {
    "collapsed": false,
    "pycharm": {
     "name": "#%%\n"
    }
   }
  },
  {
   "cell_type": "markdown",
   "source": [
    "### Filling categorical variables into numbers"
   ],
   "metadata": {
    "collapsed": false
   }
  },
  {
   "cell_type": "code",
   "execution_count": 27,
   "outputs": [
    {
     "data": {
      "text/plain": "[]"
     },
     "execution_count": 27,
     "metadata": {},
     "output_type": "execute_result"
    }
   ],
   "source": [
    "# Find the columns with non-numeric type which have missing values\n",
    "[(label, pd.isnull(content).sum()) for label, content in df.items() if not pd.api.types.is_numeric_dtype(content) if pd.isnull(content).sum()]"
   ],
   "metadata": {
    "collapsed": false,
    "pycharm": {
     "name": "#%%\n"
    }
   }
  },
  {
   "cell_type": "code",
   "execution_count": 28,
   "outputs": [],
   "source": [
    "# Turn categorical variables into numbers and fill missing\n",
    "for label, content in df.items():\n",
    "    if not pd.api.types.is_numeric_dtype(content):\n",
    "        # Add binary column to indicate whether sample had missing value\n",
    "        # df[label+\"_is_missing\"] = pd.isnull(content)\n",
    "        # Turn categories into numbers and add +1\n",
    "        df[label] = pd.Categorical(content).codes+1"
   ],
   "metadata": {
    "collapsed": false,
    "pycharm": {
     "name": "#%%\n"
    }
   }
  },
  {
   "cell_type": "code",
   "execution_count": 31,
   "outputs": [
    {
     "data": {
      "text/plain": "array([0, 1, 0, ..., 1, 1, 0], dtype=int8)"
     },
     "execution_count": 31,
     "metadata": {},
     "output_type": "execute_result"
    }
   ],
   "source": [
    "pd.Categorical(df.Gender).codes"
   ],
   "metadata": {
    "collapsed": false,
    "pycharm": {
     "name": "#%%\n"
    }
   }
  },
  {
   "cell_type": "code",
   "execution_count": 33,
   "outputs": [],
   "source": [
    "# exported to csv\n",
    "# df.to_csv('data/cleaned_data.csv')"
   ],
   "metadata": {
    "collapsed": false,
    "pycharm": {
     "name": "#%%\n"
    }
   }
  },
  {
   "cell_type": "markdown",
   "source": [
    "#### Done clean data"
   ],
   "metadata": {
    "collapsed": false,
    "pycharm": {
     "name": "#%% md\n"
    }
   }
  },
  {
   "cell_type": "code",
   "execution_count": null,
   "outputs": [],
   "source": [],
   "metadata": {
    "collapsed": false,
    "pycharm": {
     "name": "#%%\n"
    }
   }
  },
  {
   "cell_type": "code",
   "execution_count": null,
   "outputs": [],
   "source": [],
   "metadata": {
    "collapsed": false,
    "pycharm": {
     "name": "#%%\n"
    }
   }
  },
  {
   "cell_type": "code",
   "execution_count": null,
   "outputs": [],
   "source": [
    "\n",
    "# Find the columns which contain strings\n",
    "[label for label, content in df.items() if pd.api.types.is_string_dtype(content)]"
   ],
   "metadata": {
    "collapsed": false,
    "pycharm": {
     "name": "#%%\n"
    }
   }
  },
  {
   "cell_type": "code",
   "execution_count": null,
   "outputs": [],
   "source": [
    "# Convert all columns with string values into category values\n",
    "for label, content in df.items():\n",
    "    if pd.api.types.is_string_dtype(content):\n",
    "        df[label] = content.astype('category').cat.as_ordered()"
   ],
   "metadata": {
    "collapsed": false,
    "pycharm": {
     "name": "#%%\n"
    }
   }
  },
  {
   "cell_type": "code",
   "execution_count": null,
   "outputs": [],
   "source": [
    "df.info()"
   ],
   "metadata": {
    "collapsed": false,
    "pycharm": {
     "name": "#%%\n"
    }
   }
  },
  {
   "cell_type": "code",
   "execution_count": null,
   "outputs": [],
   "source": [
    "df.Gender.cat.categories"
   ],
   "metadata": {
    "collapsed": false,
    "pycharm": {
     "name": "#%%\n"
    }
   }
  },
  {
   "cell_type": "code",
   "execution_count": null,
   "outputs": [],
   "source": [
    "df.Gender.cat.codes"
   ],
   "metadata": {
    "collapsed": false,
    "pycharm": {
     "name": "#%%\n"
    }
   }
  },
  {
   "cell_type": "code",
   "execution_count": null,
   "outputs": [],
   "source": [
    "# Check missing data\n",
    "df.isnull().sum()/len(df)"
   ],
   "metadata": {
    "collapsed": false,
    "pycharm": {
     "name": "#%%\n"
    }
   }
  },
  {
   "cell_type": "code",
   "execution_count": null,
   "outputs": [],
   "source": [
    "# Check missing data\n",
    "df.isnull().sum()/len(df)"
   ],
   "metadata": {
    "collapsed": false,
    "pycharm": {
     "name": "#%%\n"
    }
   }
  },
  {
   "cell_type": "code",
   "execution_count": null,
   "outputs": [],
   "source": [
    "\n",
    "# Find the columns which contain strings\n",
    "[label for label, content in df.items() if pd.api.types.is_string_dtype(content)]"
   ],
   "metadata": {
    "collapsed": false,
    "pycharm": {
     "name": "#%%\n"
    }
   }
  },
  {
   "cell_type": "code",
   "execution_count": null,
   "outputs": [],
   "source": [
    "# Convert all columns with string values into category values\n",
    "for label, content in df.items():\n",
    "    if pd.api.types.is_string_dtype(content):\n",
    "        df[label] = content.astype('category').cat.as_ordered()"
   ],
   "metadata": {
    "collapsed": false,
    "pycharm": {
     "name": "#%%\n"
    }
   }
  },
  {
   "cell_type": "code",
   "execution_count": null,
   "outputs": [],
   "source": [
    "df.info()"
   ],
   "metadata": {
    "collapsed": false,
    "pycharm": {
     "name": "#%%\n"
    }
   }
  },
  {
   "cell_type": "code",
   "execution_count": null,
   "outputs": [],
   "source": [
    "df.Gender.cat.categories"
   ],
   "metadata": {
    "collapsed": false,
    "pycharm": {
     "name": "#%%\n"
    }
   }
  },
  {
   "cell_type": "code",
   "execution_count": null,
   "outputs": [],
   "source": [
    "df.Gender.cat.codes"
   ],
   "metadata": {
    "collapsed": false,
    "pycharm": {
     "name": "#%%\n"
    }
   }
  },
  {
   "cell_type": "code",
   "execution_count": null,
   "outputs": [],
   "source": [
    "# Check missing data\n",
    "df.isnull().sum()/len(df)"
   ],
   "metadata": {
    "collapsed": false,
    "pycharm": {
     "name": "#%%\n"
    }
   }
  },
  {
   "cell_type": "code",
   "execution_count": null,
   "outputs": [],
   "source": [
    "# Check missing data\n",
    "df.isnull().sum()/len(df)"
   ],
   "metadata": {
    "collapsed": false,
    "pycharm": {
     "name": "#%%\n"
    }
   }
  },
  {
   "cell_type": "code",
   "execution_count": null,
   "outputs": [],
   "source": [
    "\n",
    "# Find the columns which contain strings\n",
    "[label for label, content in df.items() if pd.api.types.is_string_dtype(content)]"
   ],
   "metadata": {
    "collapsed": false,
    "pycharm": {
     "name": "#%%\n"
    }
   }
  },
  {
   "cell_type": "code",
   "execution_count": null,
   "outputs": [],
   "source": [
    "# Convert all columns with string values into category values\n",
    "for label, content in df.items():\n",
    "    if pd.api.types.is_string_dtype(content):\n",
    "        df[label] = content.astype('category').cat.as_ordered()"
   ],
   "metadata": {
    "collapsed": false,
    "pycharm": {
     "name": "#%%\n"
    }
   }
  },
  {
   "cell_type": "code",
   "execution_count": null,
   "outputs": [],
   "source": [
    "df.info()"
   ],
   "metadata": {
    "collapsed": false,
    "pycharm": {
     "name": "#%%\n"
    }
   }
  },
  {
   "cell_type": "code",
   "execution_count": null,
   "outputs": [],
   "source": [
    "df.Gender.cat.categories"
   ],
   "metadata": {
    "collapsed": false,
    "pycharm": {
     "name": "#%%\n"
    }
   }
  },
  {
   "cell_type": "code",
   "execution_count": null,
   "outputs": [],
   "source": [
    "df.Gender.cat.codes"
   ],
   "metadata": {
    "collapsed": false,
    "pycharm": {
     "name": "#%%\n"
    }
   }
  },
  {
   "cell_type": "code",
   "execution_count": null,
   "outputs": [],
   "source": [
    "# Check missing data\n",
    "df.isnull().sum()/len(df)"
   ],
   "metadata": {
    "collapsed": false,
    "pycharm": {
     "name": "#%%\n"
    }
   }
  },
  {
   "cell_type": "code",
   "execution_count": null,
   "outputs": [],
   "source": [
    "# Check missing data\n",
    "df.isnull().sum()/len(df)"
   ],
   "metadata": {
    "collapsed": false,
    "pycharm": {
     "name": "#%%\n"
    }
   }
  },
  {
   "cell_type": "code",
   "execution_count": null,
   "outputs": [],
   "source": [
    "\n",
    "# Find the columns which contain strings\n",
    "[label for label, content in df.items() if pd.api.types.is_string_dtype(content)]"
   ],
   "metadata": {
    "collapsed": false,
    "pycharm": {
     "name": "#%%\n"
    }
   }
  },
  {
   "cell_type": "code",
   "execution_count": null,
   "outputs": [],
   "source": [
    "# Convert all columns with string values into category values\n",
    "for label, content in df.items():\n",
    "    if pd.api.types.is_string_dtype(content):\n",
    "        df[label] = content.astype('category').cat.as_ordered()"
   ],
   "metadata": {
    "collapsed": false,
    "pycharm": {
     "name": "#%%\n"
    }
   }
  },
  {
   "cell_type": "code",
   "execution_count": null,
   "outputs": [],
   "source": [
    "df.info()"
   ],
   "metadata": {
    "collapsed": false,
    "pycharm": {
     "name": "#%%\n"
    }
   }
  },
  {
   "cell_type": "code",
   "execution_count": null,
   "outputs": [],
   "source": [
    "df.Gender.cat.categories"
   ],
   "metadata": {
    "collapsed": false,
    "pycharm": {
     "name": "#%%\n"
    }
   }
  },
  {
   "cell_type": "code",
   "execution_count": null,
   "outputs": [],
   "source": [
    "df.Gender.cat.codes"
   ],
   "metadata": {
    "collapsed": false,
    "pycharm": {
     "name": "#%%\n"
    }
   }
  },
  {
   "cell_type": "code",
   "execution_count": null,
   "outputs": [],
   "source": [
    "# Check missing data\n",
    "df.isnull().sum()/len(df)"
   ],
   "metadata": {
    "collapsed": false,
    "pycharm": {
     "name": "#%%\n"
    }
   }
  },
  {
   "cell_type": "code",
   "execution_count": null,
   "outputs": [],
   "source": [
    "# Check missing data\n",
    "df.isnull().sum()/len(df)"
   ],
   "metadata": {
    "collapsed": false,
    "pycharm": {
     "name": "#%%\n"
    }
   }
  },
  {
   "cell_type": "code",
   "execution_count": null,
   "outputs": [],
   "source": [
    "\n",
    "# Find the columns which contain strings\n",
    "[label for label, content in df.items() if pd.api.types.is_string_dtype(content)]"
   ],
   "metadata": {
    "collapsed": false,
    "pycharm": {
     "name": "#%%\n"
    }
   }
  },
  {
   "cell_type": "code",
   "execution_count": null,
   "outputs": [],
   "source": [
    "# Convert all columns with string values into category values\n",
    "for label, content in df.items():\n",
    "    if pd.api.types.is_string_dtype(content):\n",
    "        df[label] = content.astype('category').cat.as_ordered()"
   ],
   "metadata": {
    "collapsed": false,
    "pycharm": {
     "name": "#%%\n"
    }
   }
  },
  {
   "cell_type": "code",
   "execution_count": null,
   "outputs": [],
   "source": [
    "df.info()"
   ],
   "metadata": {
    "collapsed": false,
    "pycharm": {
     "name": "#%%\n"
    }
   }
  },
  {
   "cell_type": "code",
   "execution_count": null,
   "outputs": [],
   "source": [
    "df..cat.categories"
   ],
   "metadata": {
    "collapsed": false,
    "pycharm": {
     "name": "#%%\n"
    }
   }
  },
  {
   "cell_type": "code",
   "execution_count": null,
   "outputs": [],
   "source": [
    "df.Gender.cat.codes"
   ],
   "metadata": {
    "collapsed": false,
    "pycharm": {
     "name": "#%%\n"
    }
   }
  },
  {
   "cell_type": "code",
   "execution_count": null,
   "outputs": [],
   "source": [
    "# Check missing data\n",
    "df.isnull().sum()/len(df)"
   ],
   "metadata": {
    "collapsed": false,
    "pycharm": {
     "name": "#%%\n"
    }
   }
  },
  {
   "cell_type": "code",
   "execution_count": null,
   "outputs": [],
   "source": [
    "# Check missing data\n",
    "df.isnull().sum()/len(df)"
   ],
   "metadata": {
    "collapsed": false,
    "pycharm": {
     "name": "#%%\n"
    }
   }
  },
  {
   "cell_type": "code",
   "execution_count": null,
   "outputs": [],
   "source": [
    "\n",
    "# Find the columns which contain strings\n",
    "[label for label, content in df.items() if pd.api.types.is_string_dtype(content)]"
   ],
   "metadata": {
    "collapsed": false,
    "pycharm": {
     "name": "#%%\n"
    }
   }
  },
  {
   "cell_type": "code",
   "execution_count": null,
   "outputs": [],
   "source": [
    "# Convert all columns with string values into category values\n",
    "for label, content in df.items():\n",
    "    if pd.api.types.is_string_dtype(content):\n",
    "        df[label] = content.astype('category').cat.as_ordered()"
   ],
   "metadata": {
    "collapsed": false,
    "pycharm": {
     "name": "#%%\n"
    }
   }
  },
  {
   "cell_type": "code",
   "execution_count": null,
   "outputs": [],
   "source": [
    "df.info()"
   ],
   "metadata": {
    "collapsed": false,
    "pycharm": {
     "name": "#%%\n"
    }
   }
  },
  {
   "cell_type": "code",
   "execution_count": null,
   "outputs": [],
   "source": [
    "df..cat.categories"
   ],
   "metadata": {
    "collapsed": false,
    "pycharm": {
     "name": "#%%\n"
    }
   }
  },
  {
   "cell_type": "code",
   "execution_count": null,
   "outputs": [],
   "source": [
    "df.Gende.cat.codes"
   ],
   "metadata": {
    "collapsed": false,
    "pycharm": {
     "name": "#%%\n"
    }
   }
  },
  {
   "cell_type": "code",
   "execution_count": null,
   "outputs": [],
   "source": [
    "# Check missing data\n",
    "df.isnull().sum()/len(df)"
   ],
   "metadata": {
    "collapsed": false,
    "pycharm": {
     "name": "#%%\n"
    }
   }
  },
  {
   "cell_type": "code",
   "execution_count": null,
   "outputs": [],
   "source": [
    "# Check missing data\n",
    "df.isnull().sum()/len(df)"
   ],
   "metadata": {
    "collapsed": false,
    "pycharm": {
     "name": "#%%\n"
    }
   }
  },
  {
   "cell_type": "code",
   "execution_count": null,
   "outputs": [],
   "source": [
    "\n",
    "# Find the columns which contain strings\n",
    "[label for label, content in df.items() if pd.api.types.is_string_dtype(content)]"
   ],
   "metadata": {
    "collapsed": false,
    "pycharm": {
     "name": "#%%\n"
    }
   }
  },
  {
   "cell_type": "code",
   "execution_count": null,
   "outputs": [],
   "source": [
    "# Convert all columns with string values into category values\n",
    "for label, content in df.items():\n",
    "    if pd.api.types.is_string_dtype(content):\n",
    "        df[label] = content.astype('category').cat.as_ordered()"
   ],
   "metadata": {
    "collapsed": false,
    "pycharm": {
     "name": "#%%\n"
    }
   }
  },
  {
   "cell_type": "code",
   "execution_count": null,
   "outputs": [],
   "source": [
    "df.info()"
   ],
   "metadata": {
    "collapsed": false,
    "pycharm": {
     "name": "#%%\n"
    }
   }
  },
  {
   "cell_type": "code",
   "execution_count": null,
   "outputs": [],
   "source": [
    "df..cat.categories"
   ],
   "metadata": {
    "collapsed": false,
    "pycharm": {
     "name": "#%%\n"
    }
   }
  },
  {
   "cell_type": "code",
   "execution_count": null,
   "outputs": [],
   "source": [
    "df.Gend.cat.codes"
   ],
   "metadata": {
    "collapsed": false,
    "pycharm": {
     "name": "#%%\n"
    }
   }
  },
  {
   "cell_type": "code",
   "execution_count": null,
   "outputs": [],
   "source": [
    "# Check missing data\n",
    "df.isnull().sum()/len(df)"
   ],
   "metadata": {
    "collapsed": false,
    "pycharm": {
     "name": "#%%\n"
    }
   }
  },
  {
   "cell_type": "code",
   "execution_count": null,
   "outputs": [],
   "source": [
    "# Check missing data\n",
    "df.isnull().sum()/len(df)"
   ],
   "metadata": {
    "collapsed": false,
    "pycharm": {
     "name": "#%%\n"
    }
   }
  },
  {
   "cell_type": "code",
   "execution_count": null,
   "outputs": [],
   "source": [
    "\n",
    "# Find the columns which contain strings\n",
    "[label for label, content in df.items() if pd.api.types.is_string_dtype(content)]"
   ],
   "metadata": {
    "collapsed": false,
    "pycharm": {
     "name": "#%%\n"
    }
   }
  },
  {
   "cell_type": "code",
   "execution_count": null,
   "outputs": [],
   "source": [
    "# Convert all columns with string values into category values\n",
    "for label, content in df.items():\n",
    "    if pd.api.types.is_string_dtype(content):\n",
    "        df[label] = content.astype('category').cat.as_ordered()"
   ],
   "metadata": {
    "collapsed": false,
    "pycharm": {
     "name": "#%%\n"
    }
   }
  },
  {
   "cell_type": "code",
   "execution_count": null,
   "outputs": [],
   "source": [
    "df.info()"
   ],
   "metadata": {
    "collapsed": false,
    "pycharm": {
     "name": "#%%\n"
    }
   }
  },
  {
   "cell_type": "code",
   "execution_count": null,
   "outputs": [],
   "source": [
    "df..cat.categories"
   ],
   "metadata": {
    "collapsed": false,
    "pycharm": {
     "name": "#%%\n"
    }
   }
  },
  {
   "cell_type": "code",
   "execution_count": null,
   "outputs": [],
   "source": [
    "df.Gen.cat.codes"
   ],
   "metadata": {
    "collapsed": false,
    "pycharm": {
     "name": "#%%\n"
    }
   }
  },
  {
   "cell_type": "code",
   "execution_count": null,
   "outputs": [],
   "source": [
    "# Check missing data\n",
    "df.isnull().sum()/len(df)"
   ],
   "metadata": {
    "collapsed": false,
    "pycharm": {
     "name": "#%%\n"
    }
   }
  },
  {
   "cell_type": "code",
   "execution_count": null,
   "outputs": [],
   "source": [
    "# Check missing data\n",
    "df.isnull().sum()/len(df)"
   ],
   "metadata": {
    "collapsed": false,
    "pycharm": {
     "name": "#%%\n"
    }
   }
  },
  {
   "cell_type": "code",
   "execution_count": null,
   "outputs": [],
   "source": [
    "\n",
    "# Find the columns which contain strings\n",
    "[label for label, content in df.items() if pd.api.types.is_string_dtype(content)]"
   ],
   "metadata": {
    "collapsed": false,
    "pycharm": {
     "name": "#%%\n"
    }
   }
  },
  {
   "cell_type": "code",
   "execution_count": null,
   "outputs": [],
   "source": [
    "# Convert all columns with string values into category values\n",
    "for label, content in df.items():\n",
    "    if pd.api.types.is_string_dtype(content):\n",
    "        df[label] = content.astype('category').cat.as_ordered()"
   ],
   "metadata": {
    "collapsed": false,
    "pycharm": {
     "name": "#%%\n"
    }
   }
  },
  {
   "cell_type": "code",
   "execution_count": null,
   "outputs": [],
   "source": [
    "df.info()"
   ],
   "metadata": {
    "collapsed": false,
    "pycharm": {
     "name": "#%%\n"
    }
   }
  },
  {
   "cell_type": "code",
   "execution_count": null,
   "outputs": [],
   "source": [
    "df..cat.categories"
   ],
   "metadata": {
    "collapsed": false,
    "pycharm": {
     "name": "#%%\n"
    }
   }
  },
  {
   "cell_type": "code",
   "execution_count": null,
   "outputs": [],
   "source": [
    "df.Ge.cat.codes"
   ],
   "metadata": {
    "collapsed": false,
    "pycharm": {
     "name": "#%%\n"
    }
   }
  },
  {
   "cell_type": "code",
   "execution_count": null,
   "outputs": [],
   "source": [
    "# Check missing data\n",
    "df.isnull().sum()/len(df)"
   ],
   "metadata": {
    "collapsed": false,
    "pycharm": {
     "name": "#%%\n"
    }
   }
  },
  {
   "cell_type": "code",
   "execution_count": null,
   "outputs": [],
   "source": [
    "# Check missing data\n",
    "df.isnull().sum()/len(df)"
   ],
   "metadata": {
    "collapsed": false,
    "pycharm": {
     "name": "#%%\n"
    }
   }
  },
  {
   "cell_type": "code",
   "execution_count": null,
   "outputs": [],
   "source": [
    "\n",
    "# Find the columns which contain strings\n",
    "[label for label, content in df.items() if pd.api.types.is_string_dtype(content)]"
   ],
   "metadata": {
    "collapsed": false,
    "pycharm": {
     "name": "#%%\n"
    }
   }
  },
  {
   "cell_type": "code",
   "execution_count": null,
   "outputs": [],
   "source": [
    "# Convert all columns with string values into category values\n",
    "for label, content in df.items():\n",
    "    if pd.api.types.is_string_dtype(content):\n",
    "        df[label] = content.astype('category').cat.as_ordered()"
   ],
   "metadata": {
    "collapsed": false,
    "pycharm": {
     "name": "#%%\n"
    }
   }
  },
  {
   "cell_type": "code",
   "execution_count": null,
   "outputs": [],
   "source": [
    "df.info()"
   ],
   "metadata": {
    "collapsed": false,
    "pycharm": {
     "name": "#%%\n"
    }
   }
  },
  {
   "cell_type": "code",
   "execution_count": null,
   "outputs": [],
   "source": [
    "df..cat.categories"
   ],
   "metadata": {
    "collapsed": false,
    "pycharm": {
     "name": "#%%\n"
    }
   }
  },
  {
   "cell_type": "code",
   "execution_count": null,
   "outputs": [],
   "source": [
    "df.G.cat.codes"
   ],
   "metadata": {
    "collapsed": false,
    "pycharm": {
     "name": "#%%\n"
    }
   }
  },
  {
   "cell_type": "code",
   "execution_count": null,
   "outputs": [],
   "source": [
    "# Check missing data\n",
    "df.isnull().sum()/len(df)"
   ],
   "metadata": {
    "collapsed": false,
    "pycharm": {
     "name": "#%%\n"
    }
   }
  },
  {
   "cell_type": "code",
   "execution_count": null,
   "outputs": [],
   "source": [
    "# Check missing data\n",
    "df.isnull().sum()/len(df)"
   ],
   "metadata": {
    "collapsed": false,
    "pycharm": {
     "name": "#%%\n"
    }
   }
  },
  {
   "cell_type": "code",
   "execution_count": null,
   "outputs": [],
   "source": [
    "\n",
    "# Find the columns which contain strings\n",
    "[label for label, content in df.items() if pd.api.types.is_string_dtype(content)]"
   ],
   "metadata": {
    "collapsed": false,
    "pycharm": {
     "name": "#%%\n"
    }
   }
  },
  {
   "cell_type": "code",
   "execution_count": null,
   "outputs": [],
   "source": [
    "# Convert all columns with string values into category values\n",
    "for label, content in df.items():\n",
    "    if pd.api.types.is_string_dtype(content):\n",
    "        df[label] = content.astype('category').cat.as_ordered()"
   ],
   "metadata": {
    "collapsed": false,
    "pycharm": {
     "name": "#%%\n"
    }
   }
  },
  {
   "cell_type": "code",
   "execution_count": null,
   "outputs": [],
   "source": [
    "df.info()"
   ],
   "metadata": {
    "collapsed": false,
    "pycharm": {
     "name": "#%%\n"
    }
   }
  },
  {
   "cell_type": "code",
   "execution_count": null,
   "outputs": [],
   "source": [
    "df..cat.categories"
   ],
   "metadata": {
    "collapsed": false,
    "pycharm": {
     "name": "#%%\n"
    }
   }
  },
  {
   "cell_type": "code",
   "execution_count": null,
   "outputs": [],
   "source": [
    "df..cat.codes"
   ],
   "metadata": {
    "collapsed": false,
    "pycharm": {
     "name": "#%%\n"
    }
   }
  },
  {
   "cell_type": "code",
   "execution_count": null,
   "outputs": [],
   "source": [
    "# Check missing data\n",
    "df.isnull().sum()/len(df)"
   ],
   "metadata": {
    "collapsed": false,
    "pycharm": {
     "name": "#%%\n"
    }
   }
  },
  {
   "cell_type": "code",
   "execution_count": null,
   "outputs": [],
   "source": [
    "# Check missing data\n",
    "df.isnull().sum()/len(df)"
   ],
   "metadata": {
    "collapsed": false,
    "pycharm": {
     "name": "#%%\n"
    }
   }
  },
  {
   "cell_type": "code",
   "execution_count": null,
   "outputs": [],
   "source": [
    "\n",
    "# Find the columns which contain strings\n",
    "[label for label, content in df.items() if pd.api.types.is_string_dtype(content)]"
   ],
   "metadata": {
    "collapsed": false,
    "pycharm": {
     "name": "#%%\n"
    }
   }
  },
  {
   "cell_type": "code",
   "execution_count": null,
   "outputs": [],
   "source": [
    "# Convert all columns with string values into category values\n",
    "for label, content in df.items():\n",
    "    if pd.api.types.is_string_dtype(content):\n",
    "        df[label] = content.astype('category').cat.as_ordered()"
   ],
   "metadata": {
    "collapsed": false,
    "pycharm": {
     "name": "#%%\n"
    }
   }
  },
  {
   "cell_type": "code",
   "execution_count": null,
   "outputs": [],
   "source": [
    "df.info()"
   ],
   "metadata": {
    "collapsed": false,
    "pycharm": {
     "name": "#%%\n"
    }
   }
  },
  {
   "cell_type": "code",
   "execution_count": null,
   "outputs": [],
   "source": [
    "df.G.cat.categories"
   ],
   "metadata": {
    "collapsed": false,
    "pycharm": {
     "name": "#%%\n"
    }
   }
  },
  {
   "cell_type": "code",
   "execution_count": null,
   "outputs": [],
   "source": [
    "df.G.cat.codes"
   ],
   "metadata": {
    "collapsed": false,
    "pycharm": {
     "name": "#%%\n"
    }
   }
  },
  {
   "cell_type": "code",
   "execution_count": null,
   "outputs": [],
   "source": [
    "# Check missing data\n",
    "df.isnull().sum()/len(df)"
   ],
   "metadata": {
    "collapsed": false,
    "pycharm": {
     "name": "#%%\n"
    }
   }
  },
  {
   "cell_type": "code",
   "execution_count": null,
   "outputs": [],
   "source": [
    "# Check missing data\n",
    "df.isnull().sum()/len(df)"
   ],
   "metadata": {
    "collapsed": false,
    "pycharm": {
     "name": "#%%\n"
    }
   }
  },
  {
   "cell_type": "code",
   "execution_count": null,
   "outputs": [],
   "source": [
    "\n",
    "# Find the columns which contain strings\n",
    "[label for label, content in df.items() if pd.api.types.is_string_dtype(content)]"
   ],
   "metadata": {
    "collapsed": false,
    "pycharm": {
     "name": "#%%\n"
    }
   }
  },
  {
   "cell_type": "code",
   "execution_count": null,
   "outputs": [],
   "source": [
    "# Convert all columns with string values into category values\n",
    "for label, content in df.items():\n",
    "    if pd.api.types.is_string_dtype(content):\n",
    "        df[label] = content.astype('category').cat.as_ordered()"
   ],
   "metadata": {
    "collapsed": false,
    "pycharm": {
     "name": "#%%\n"
    }
   }
  },
  {
   "cell_type": "code",
   "execution_count": null,
   "outputs": [],
   "source": [
    "df.info()"
   ],
   "metadata": {
    "collapsed": false,
    "pycharm": {
     "name": "#%%\n"
    }
   }
  },
  {
   "cell_type": "code",
   "execution_count": null,
   "outputs": [],
   "source": [
    "df.Ge.cat.categories"
   ],
   "metadata": {
    "collapsed": false,
    "pycharm": {
     "name": "#%%\n"
    }
   }
  },
  {
   "cell_type": "code",
   "execution_count": null,
   "outputs": [],
   "source": [
    "df.Ge.cat.codes"
   ],
   "metadata": {
    "collapsed": false,
    "pycharm": {
     "name": "#%%\n"
    }
   }
  },
  {
   "cell_type": "code",
   "execution_count": null,
   "outputs": [],
   "source": [
    "# Check missing data\n",
    "df.isnull().sum()/len(df)"
   ],
   "metadata": {
    "collapsed": false,
    "pycharm": {
     "name": "#%%\n"
    }
   }
  },
  {
   "cell_type": "code",
   "execution_count": null,
   "outputs": [],
   "source": [
    "# Check missing data\n",
    "df.isnull().sum()/len(df)"
   ],
   "metadata": {
    "collapsed": false,
    "pycharm": {
     "name": "#%%\n"
    }
   }
  },
  {
   "cell_type": "code",
   "execution_count": null,
   "outputs": [],
   "source": [
    "\n",
    "# Find the columns which contain strings\n",
    "[label for label, content in df.items() if pd.api.types.is_string_dtype(content)]"
   ],
   "metadata": {
    "collapsed": false,
    "pycharm": {
     "name": "#%%\n"
    }
   }
  },
  {
   "cell_type": "code",
   "execution_count": null,
   "outputs": [],
   "source": [
    "# Convert all columns with string values into category values\n",
    "for label, content in df.items():\n",
    "    if pd.api.types.is_string_dtype(content):\n",
    "        df[label] = content.astype('category').cat.as_ordered()"
   ],
   "metadata": {
    "collapsed": false,
    "pycharm": {
     "name": "#%%\n"
    }
   }
  },
  {
   "cell_type": "code",
   "execution_count": null,
   "outputs": [],
   "source": [
    "df.info()"
   ],
   "metadata": {
    "collapsed": false,
    "pycharm": {
     "name": "#%%\n"
    }
   }
  },
  {
   "cell_type": "code",
   "execution_count": null,
   "outputs": [],
   "source": [
    "df.province.cat.categories"
   ],
   "metadata": {
    "collapsed": false,
    "pycharm": {
     "name": "#%%\n"
    }
   }
  },
  {
   "cell_type": "code",
   "execution_count": null,
   "outputs": [],
   "source": [
    "df.Ge.cat.codes"
   ],
   "metadata": {
    "collapsed": false,
    "pycharm": {
     "name": "#%%\n"
    }
   }
  },
  {
   "cell_type": "code",
   "execution_count": null,
   "outputs": [],
   "source": [
    "# Check missing data\n",
    "df.isnull().sum()/len(df)"
   ],
   "metadata": {
    "collapsed": false,
    "pycharm": {
     "name": "#%%\n"
    }
   }
  },
  {
   "cell_type": "code",
   "execution_count": null,
   "outputs": [],
   "source": [
    "# Check missing data\n",
    "df.isnull().sum()/len(df)"
   ],
   "metadata": {
    "collapsed": false,
    "pycharm": {
     "name": "#%%\n"
    }
   }
  },
  {
   "cell_type": "code",
   "execution_count": null,
   "outputs": [],
   "source": [
    "\n",
    "# Find the columns which contain strings\n",
    "[label for label, content in df.items() if pd.api.types.is_string_dtype(content)]"
   ],
   "metadata": {
    "collapsed": false,
    "pycharm": {
     "name": "#%%\n"
    }
   }
  },
  {
   "cell_type": "code",
   "execution_count": null,
   "outputs": [],
   "source": [
    "# Convert all columns with string values into category values\n",
    "for label, content in df.items():\n",
    "    if pd.api.types.is_string_dtype(content):\n",
    "        df[label] = content.astype('category').cat.as_ordered()"
   ],
   "metadata": {
    "collapsed": false,
    "pycharm": {
     "name": "#%%\n"
    }
   }
  },
  {
   "cell_type": "code",
   "execution_count": null,
   "outputs": [],
   "source": [
    "df.info()"
   ],
   "metadata": {
    "collapsed": false,
    "pycharm": {
     "name": "#%%\n"
    }
   }
  },
  {
   "cell_type": "code",
   "execution_count": null,
   "outputs": [],
   "source": [
    "df.province.cat.categories"
   ],
   "metadata": {
    "collapsed": false,
    "pycharm": {
     "name": "#%%\n"
    }
   }
  },
  {
   "cell_type": "code",
   "execution_count": null,
   "outputs": [],
   "source": [
    "df.G.cat.codes"
   ],
   "metadata": {
    "collapsed": false,
    "pycharm": {
     "name": "#%%\n"
    }
   }
  },
  {
   "cell_type": "code",
   "execution_count": null,
   "outputs": [],
   "source": [
    "# Check missing data\n",
    "df.isnull().sum()/len(df)"
   ],
   "metadata": {
    "collapsed": false,
    "pycharm": {
     "name": "#%%\n"
    }
   }
  },
  {
   "cell_type": "code",
   "execution_count": null,
   "outputs": [],
   "source": [
    "# Check missing data\n",
    "df.isnull().sum()/len(df)"
   ],
   "metadata": {
    "collapsed": false,
    "pycharm": {
     "name": "#%%\n"
    }
   }
  },
  {
   "cell_type": "code",
   "execution_count": null,
   "outputs": [],
   "source": [
    "\n",
    "# Find the columns which contain strings\n",
    "[label for label, content in df.items() if pd.api.types.is_string_dtype(content)]"
   ],
   "metadata": {
    "collapsed": false,
    "pycharm": {
     "name": "#%%\n"
    }
   }
  },
  {
   "cell_type": "code",
   "execution_count": null,
   "outputs": [],
   "source": [
    "# Convert all columns with string values into category values\n",
    "for label, content in df.items():\n",
    "    if pd.api.types.is_string_dtype(content):\n",
    "        df[label] = content.astype('category').cat.as_ordered()"
   ],
   "metadata": {
    "collapsed": false,
    "pycharm": {
     "name": "#%%\n"
    }
   }
  },
  {
   "cell_type": "code",
   "execution_count": null,
   "outputs": [],
   "source": [
    "df.info()"
   ],
   "metadata": {
    "collapsed": false,
    "pycharm": {
     "name": "#%%\n"
    }
   }
  },
  {
   "cell_type": "code",
   "execution_count": null,
   "outputs": [],
   "source": [
    "df.province.cat.categories"
   ],
   "metadata": {
    "collapsed": false,
    "pycharm": {
     "name": "#%%\n"
    }
   }
  },
  {
   "cell_type": "code",
   "execution_count": null,
   "outputs": [],
   "source": [
    "df.province.cat.codes"
   ],
   "metadata": {
    "collapsed": false,
    "pycharm": {
     "name": "#%%\n"
    }
   }
  },
  {
   "cell_type": "code",
   "execution_count": null,
   "outputs": [],
   "source": [
    "# Check missing data\n",
    "df.isnull().sum()/len(df)"
   ],
   "metadata": {
    "collapsed": false,
    "pycharm": {
     "name": "#%%\n"
    }
   }
  },
  {
   "cell_type": "code",
   "execution_count": null,
   "outputs": [],
   "source": [
    "# Check missing data\n",
    "df.isnull().sum()/len(df)"
   ],
   "metadata": {
    "collapsed": false,
    "pycharm": {
     "name": "#%%\n"
    }
   }
  },
  {
   "cell_type": "code",
   "execution_count": null,
   "outputs": [],
   "source": [
    "\n",
    "# Find the columns which contain strings\n",
    "[label for label, content in df.items() if pd.api.types.is_string_dtype(content)]"
   ],
   "metadata": {
    "collapsed": false,
    "pycharm": {
     "name": "#%%\n"
    }
   }
  },
  {
   "cell_type": "code",
   "execution_count": null,
   "outputs": [],
   "source": [
    "# Convert all columns with string values into category values\n",
    "for label, content in df.items():\n",
    "    if pd.api.types.is_string_dtype(content):\n",
    "        df[label] = content.astype('category').cat.as_ordered()"
   ],
   "metadata": {
    "collapsed": false,
    "pycharm": {
     "name": "#%%\n"
    }
   }
  },
  {
   "cell_type": "code",
   "execution_count": null,
   "outputs": [],
   "source": [
    "df.info()"
   ],
   "metadata": {
    "collapsed": false,
    "pycharm": {
     "name": "#%%\n"
    }
   }
  },
  {
   "cell_type": "code",
   "execution_count": null,
   "outputs": [],
   "source": [
    "df.province.cat.categories"
   ],
   "metadata": {
    "collapsed": false,
    "pycharm": {
     "name": "#%%\n"
    }
   }
  },
  {
   "cell_type": "code",
   "execution_count": null,
   "outputs": [],
   "source": [
    "df.class.cat.codes"
   ],
   "metadata": {
    "collapsed": false,
    "pycharm": {
     "name": "#%%\n"
    }
   }
  },
  {
   "cell_type": "code",
   "execution_count": null,
   "outputs": [],
   "source": [
    "# Check missing data\n",
    "df.isnull().sum()/len(df)"
   ],
   "metadata": {
    "collapsed": false,
    "pycharm": {
     "name": "#%%\n"
    }
   }
  },
  {
   "cell_type": "code",
   "execution_count": null,
   "outputs": [],
   "source": [
    "# Check missing data\n",
    "df.isnull().sum()/len(df)"
   ],
   "metadata": {
    "collapsed": false,
    "pycharm": {
     "name": "#%%\n"
    }
   }
  },
  {
   "cell_type": "code",
   "execution_count": null,
   "outputs": [],
   "source": [
    "\n",
    "# Find the columns which contain strings\n",
    "[label for label, content in df.items() if pd.api.types.is_string_dtype(content)]"
   ],
   "metadata": {
    "collapsed": false,
    "pycharm": {
     "name": "#%%\n"
    }
   }
  },
  {
   "cell_type": "code",
   "execution_count": null,
   "outputs": [],
   "source": [
    "# Convert all columns with string values into category values\n",
    "for label, content in df.items():\n",
    "    if pd.api.types.is_string_dtype(content):\n",
    "        df[label] = content.astype('category').cat.as_ordered()"
   ],
   "metadata": {
    "collapsed": false,
    "pycharm": {
     "name": "#%%\n"
    }
   }
  },
  {
   "cell_type": "code",
   "execution_count": null,
   "outputs": [],
   "source": [
    "df.info()"
   ],
   "metadata": {
    "collapsed": false,
    "pycharm": {
     "name": "#%%\n"
    }
   }
  },
  {
   "cell_type": "code",
   "execution_count": null,
   "outputs": [],
   "source": [
    "df.province.cat.categories"
   ],
   "metadata": {
    "collapsed": false,
    "pycharm": {
     "name": "#%%\n"
    }
   }
  },
  {
   "cell_type": "code",
   "execution_count": null,
   "outputs": [],
   "source": [
    "df.class.cat.codes"
   ],
   "metadata": {
    "collapsed": false,
    "pycharm": {
     "name": "#%%\n"
    }
   }
  },
  {
   "cell_type": "code",
   "execution_count": null,
   "outputs": [],
   "source": [
    "# Check missing data\n",
    "df.isnull().sum()/len(df)"
   ],
   "metadata": {
    "collapsed": false,
    "pycharm": {
     "name": "#%%\n"
    }
   }
  },
  {
   "cell_type": "code",
   "execution_count": null,
   "outputs": [],
   "source": [
    "# Check missing data\n",
    "df.isnull().sum()/len(df)"
   ],
   "metadata": {
    "collapsed": false,
    "pycharm": {
     "name": "#%%\n"
    }
   }
  },
  {
   "cell_type": "code",
   "execution_count": null,
   "outputs": [],
   "source": [
    "\n",
    "# Find the columns which contain strings\n",
    "[label for label, content in df.items() if pd.api.types.is_string_dtype(content)]"
   ],
   "metadata": {
    "collapsed": false,
    "pycharm": {
     "name": "#%%\n"
    }
   }
  },
  {
   "cell_type": "code",
   "execution_count": null,
   "outputs": [],
   "source": [
    "# Convert all columns with string values into category values\n",
    "for label, content in df.items():\n",
    "    if pd.api.types.is_string_dtype(content):\n",
    "        df[label] = content.astype('category').cat.as_ordered()"
   ],
   "metadata": {
    "collapsed": false,
    "pycharm": {
     "name": "#%%\n"
    }
   }
  },
  {
   "cell_type": "code",
   "execution_count": null,
   "outputs": [],
   "source": [
    "df.info()"
   ],
   "metadata": {
    "collapsed": false,
    "pycharm": {
     "name": "#%%\n"
    }
   }
  },
  {
   "cell_type": "code",
   "execution_count": null,
   "outputs": [],
   "source": [
    "df.province.cat.categories"
   ],
   "metadata": {
    "collapsed": false,
    "pycharm": {
     "name": "#%%\n"
    }
   }
  },
  {
   "cell_type": "code",
   "execution_count": null,
   "outputs": [],
   "source": [
    "df.clas.cat.codes"
   ],
   "metadata": {
    "collapsed": false,
    "pycharm": {
     "name": "#%%\n"
    }
   }
  },
  {
   "cell_type": "code",
   "execution_count": null,
   "outputs": [],
   "source": [
    "# Check missing data\n",
    "df.isnull().sum()/len(df)"
   ],
   "metadata": {
    "collapsed": false,
    "pycharm": {
     "name": "#%%\n"
    }
   }
  },
  {
   "cell_type": "code",
   "execution_count": null,
   "outputs": [],
   "source": [
    "# Check missing data\n",
    "df.isnull().sum()/len(df)"
   ],
   "metadata": {
    "collapsed": false,
    "pycharm": {
     "name": "#%%\n"
    }
   }
  },
  {
   "cell_type": "code",
   "execution_count": null,
   "outputs": [],
   "source": [
    "\n",
    "# Find the columns which contain strings\n",
    "[label for label, content in df.items() if pd.api.types.is_string_dtype(content)]"
   ],
   "metadata": {
    "collapsed": false,
    "pycharm": {
     "name": "#%%\n"
    }
   }
  },
  {
   "cell_type": "code",
   "execution_count": null,
   "outputs": [],
   "source": [
    "# Convert all columns with string values into category values\n",
    "for label, content in df.items():\n",
    "    if pd.api.types.is_string_dtype(content):\n",
    "        df[label] = content.astype('category').cat.as_ordered()"
   ],
   "metadata": {
    "collapsed": false,
    "pycharm": {
     "name": "#%%\n"
    }
   }
  },
  {
   "cell_type": "code",
   "execution_count": null,
   "outputs": [],
   "source": [
    "df.info()"
   ],
   "metadata": {
    "collapsed": false,
    "pycharm": {
     "name": "#%%\n"
    }
   }
  },
  {
   "cell_type": "code",
   "execution_count": null,
   "outputs": [],
   "source": [
    "df.province.cat.categories"
   ],
   "metadata": {
    "collapsed": false,
    "pycharm": {
     "name": "#%%\n"
    }
   }
  },
  {
   "cell_type": "code",
   "execution_count": null,
   "outputs": [],
   "source": [
    "df.cla.cat.codes"
   ],
   "metadata": {
    "collapsed": false,
    "pycharm": {
     "name": "#%%\n"
    }
   }
  },
  {
   "cell_type": "code",
   "execution_count": null,
   "outputs": [],
   "source": [
    "# Check missing data\n",
    "df.isnull().sum()/len(df)"
   ],
   "metadata": {
    "collapsed": false,
    "pycharm": {
     "name": "#%%\n"
    }
   }
  },
  {
   "cell_type": "code",
   "execution_count": null,
   "outputs": [],
   "source": [
    "# Check missing data\n",
    "df.isnull().sum()/len(df)"
   ],
   "metadata": {
    "collapsed": false,
    "pycharm": {
     "name": "#%%\n"
    }
   }
  },
  {
   "cell_type": "code",
   "execution_count": null,
   "outputs": [],
   "source": [
    "\n",
    "# Find the columns which contain strings\n",
    "[label for label, content in df.items() if pd.api.types.is_string_dtype(content)]"
   ],
   "metadata": {
    "collapsed": false,
    "pycharm": {
     "name": "#%%\n"
    }
   }
  },
  {
   "cell_type": "code",
   "execution_count": null,
   "outputs": [],
   "source": [
    "# Convert all columns with string values into category values\n",
    "for label, content in df.items():\n",
    "    if pd.api.types.is_string_dtype(content):\n",
    "        df[label] = content.astype('category').cat.as_ordered()"
   ],
   "metadata": {
    "collapsed": false,
    "pycharm": {
     "name": "#%%\n"
    }
   }
  },
  {
   "cell_type": "code",
   "execution_count": null,
   "outputs": [],
   "source": [
    "df.info()"
   ],
   "metadata": {
    "collapsed": false,
    "pycharm": {
     "name": "#%%\n"
    }
   }
  },
  {
   "cell_type": "code",
   "execution_count": null,
   "outputs": [],
   "source": [
    "df.province.cat.categories"
   ],
   "metadata": {
    "collapsed": false,
    "pycharm": {
     "name": "#%%\n"
    }
   }
  },
  {
   "cell_type": "code",
   "execution_count": null,
   "outputs": [],
   "source": [
    "df.cl.cat.codes"
   ],
   "metadata": {
    "collapsed": false,
    "pycharm": {
     "name": "#%%\n"
    }
   }
  },
  {
   "cell_type": "code",
   "execution_count": null,
   "outputs": [],
   "source": [
    "# Check missing data\n",
    "df.isnull().sum()/len(df)"
   ],
   "metadata": {
    "collapsed": false,
    "pycharm": {
     "name": "#%%\n"
    }
   }
  },
  {
   "cell_type": "code",
   "execution_count": null,
   "outputs": [],
   "source": [
    "# Check missing data\n",
    "df.isnull().sum()/len(df)"
   ],
   "metadata": {
    "collapsed": false,
    "pycharm": {
     "name": "#%%\n"
    }
   }
  },
  {
   "cell_type": "code",
   "execution_count": null,
   "outputs": [],
   "source": [
    "\n",
    "# Find the columns which contain strings\n",
    "[label for label, content in df.items() if pd.api.types.is_string_dtype(content)]"
   ],
   "metadata": {
    "collapsed": false,
    "pycharm": {
     "name": "#%%\n"
    }
   }
  },
  {
   "cell_type": "code",
   "execution_count": null,
   "outputs": [],
   "source": [
    "# Convert all columns with string values into category values\n",
    "for label, content in df.items():\n",
    "    if pd.api.types.is_string_dtype(content):\n",
    "        df[label] = content.astype('category').cat.as_ordered()"
   ],
   "metadata": {
    "collapsed": false,
    "pycharm": {
     "name": "#%%\n"
    }
   }
  },
  {
   "cell_type": "code",
   "execution_count": null,
   "outputs": [],
   "source": [
    "df.info()"
   ],
   "metadata": {
    "collapsed": false,
    "pycharm": {
     "name": "#%%\n"
    }
   }
  },
  {
   "cell_type": "code",
   "execution_count": null,
   "outputs": [],
   "source": [
    "df.province.cat.categories"
   ],
   "metadata": {
    "collapsed": false,
    "pycharm": {
     "name": "#%%\n"
    }
   }
  },
  {
   "cell_type": "code",
   "execution_count": null,
   "outputs": [],
   "source": [
    "df.c.cat.codes"
   ],
   "metadata": {
    "collapsed": false,
    "pycharm": {
     "name": "#%%\n"
    }
   }
  },
  {
   "cell_type": "code",
   "execution_count": null,
   "outputs": [],
   "source": [
    "# Check missing data\n",
    "df.isnull().sum()/len(df)"
   ],
   "metadata": {
    "collapsed": false,
    "pycharm": {
     "name": "#%%\n"
    }
   }
  },
  {
   "cell_type": "code",
   "execution_count": null,
   "outputs": [],
   "source": [
    "# Check missing data\n",
    "df.isnull().sum()/len(df)"
   ],
   "metadata": {
    "collapsed": false,
    "pycharm": {
     "name": "#%%\n"
    }
   }
  },
  {
   "cell_type": "code",
   "execution_count": null,
   "outputs": [],
   "source": [
    "\n",
    "# Find the columns which contain strings\n",
    "[label for label, content in df.items() if pd.api.types.is_string_dtype(content)]"
   ],
   "metadata": {
    "collapsed": false,
    "pycharm": {
     "name": "#%%\n"
    }
   }
  },
  {
   "cell_type": "code",
   "execution_count": null,
   "outputs": [],
   "source": [
    "# Convert all columns with string values into category values\n",
    "for label, content in df.items():\n",
    "    if pd.api.types.is_string_dtype(content):\n",
    "        df[label] = content.astype('category').cat.as_ordered()"
   ],
   "metadata": {
    "collapsed": false,
    "pycharm": {
     "name": "#%%\n"
    }
   }
  },
  {
   "cell_type": "code",
   "execution_count": null,
   "outputs": [],
   "source": [
    "df.info()"
   ],
   "metadata": {
    "collapsed": false,
    "pycharm": {
     "name": "#%%\n"
    }
   }
  },
  {
   "cell_type": "code",
   "execution_count": null,
   "outputs": [],
   "source": [
    "df.province.cat.categories"
   ],
   "metadata": {
    "collapsed": false,
    "pycharm": {
     "name": "#%%\n"
    }
   }
  },
  {
   "cell_type": "code",
   "execution_count": null,
   "outputs": [],
   "source": [
    "df.province.cat.codes"
   ],
   "metadata": {
    "collapsed": false,
    "pycharm": {
     "name": "#%%\n"
    }
   }
  },
  {
   "cell_type": "code",
   "execution_count": null,
   "outputs": [],
   "source": [
    "# Check missing data\n",
    "df.isnull().sum()/len(df)"
   ],
   "metadata": {
    "collapsed": false,
    "pycharm": {
     "name": "#%%\n"
    }
   }
  },
  {
   "cell_type": "code",
   "execution_count": null,
   "outputs": [],
   "source": [
    "# Check missing data\n",
    "df.isnull().sum()/len(df)"
   ],
   "metadata": {
    "collapsed": false,
    "pycharm": {
     "name": "#%%\n"
    }
   }
  },
  {
   "cell_type": "code",
   "execution_count": null,
   "outputs": [],
   "source": [
    "\n",
    "# Find the columns which contain strings\n",
    "[label for label, content in dff.items() if pd.api.types.is_string_dtype(content)]"
   ],
   "metadata": {
    "collapsed": false,
    "pycharm": {
     "name": "#%%\n"
    }
   }
  },
  {
   "cell_type": "code",
   "execution_count": null,
   "outputs": [],
   "source": [
    "# Convert all columns with string values into category values\n",
    "for label, content in dff.items():\n",
    "    if pd.api.types.is_string_dtype(content):\n",
    "        dff[label] = content.astype('category').cat.as_ordered()"
   ],
   "metadata": {
    "collapsed": false,
    "pycharm": {
     "name": "#%%\n"
    }
   }
  },
  {
   "cell_type": "code",
   "execution_count": null,
   "outputs": [],
   "source": [
    "dff.info()"
   ],
   "metadata": {
    "collapsed": false,
    "pycharm": {
     "name": "#%%\n"
    }
   }
  },
  {
   "cell_type": "code",
   "execution_count": null,
   "outputs": [],
   "source": [
    "dff.province.cat.categories"
   ],
   "metadata": {
    "collapsed": false,
    "pycharm": {
     "name": "#%%\n"
    }
   }
  },
  {
   "cell_type": "code",
   "execution_count": null,
   "outputs": [],
   "source": [
    "dff.province.cat.codes"
   ],
   "metadata": {
    "collapsed": false,
    "pycharm": {
     "name": "#%%\n"
    }
   }
  },
  {
   "cell_type": "code",
   "execution_count": null,
   "outputs": [],
   "source": [
    "# Check missing data\n",
    "dff.isnull().sum()/len(dff)"
   ],
   "metadata": {
    "collapsed": false,
    "pycharm": {
     "name": "#%%\n"
    }
   }
  },
  {
   "cell_type": "code",
   "execution_count": null,
   "outputs": [],
   "source": [
    "# Check missing data\n",
    "dff.isnull().sum()/len(dff)"
   ],
   "metadata": {
    "collapsed": false,
    "pycharm": {
     "name": "#%%\n"
    }
   }
  },
  {
   "cell_type": "code",
   "execution_count": null,
   "outputs": [],
   "source": [
    "\n",
    "# Find the columns which contain strings\n",
    "[label for label, content in d.items() if pd.api.types.is_string_dtype(content)]"
   ],
   "metadata": {
    "collapsed": false,
    "pycharm": {
     "name": "#%%\n"
    }
   }
  },
  {
   "cell_type": "code",
   "execution_count": null,
   "outputs": [],
   "source": [
    "# Convert all columns with string values into category values\n",
    "for label, content in d.items():\n",
    "    if pd.api.types.is_string_dtype(content):\n",
    "        d[label] = content.astype('category').cat.as_ordered()"
   ],
   "metadata": {
    "collapsed": false,
    "pycharm": {
     "name": "#%%\n"
    }
   }
  },
  {
   "cell_type": "code",
   "execution_count": null,
   "outputs": [],
   "source": [
    "d.info()"
   ],
   "metadata": {
    "collapsed": false,
    "pycharm": {
     "name": "#%%\n"
    }
   }
  },
  {
   "cell_type": "code",
   "execution_count": null,
   "outputs": [],
   "source": [
    "d.province.cat.categories"
   ],
   "metadata": {
    "collapsed": false,
    "pycharm": {
     "name": "#%%\n"
    }
   }
  },
  {
   "cell_type": "code",
   "execution_count": null,
   "outputs": [],
   "source": [
    "d.province.cat.codes"
   ],
   "metadata": {
    "collapsed": false,
    "pycharm": {
     "name": "#%%\n"
    }
   }
  },
  {
   "cell_type": "code",
   "execution_count": null,
   "outputs": [],
   "source": [
    "# Check missing data\n",
    "d.isnull().sum()/len(dff)"
   ],
   "metadata": {
    "collapsed": false,
    "pycharm": {
     "name": "#%%\n"
    }
   }
  },
  {
   "cell_type": "code",
   "execution_count": null,
   "outputs": [],
   "source": [
    "# Check missing data\n",
    "d.isnull().sum()/len(dff)"
   ],
   "metadata": {
    "collapsed": false,
    "pycharm": {
     "name": "#%%\n"
    }
   }
  },
  {
   "cell_type": "code",
   "execution_count": null,
   "outputs": [],
   "source": [
    "\n",
    "# Find the columns which contain strings\n",
    "[label for label, content in d.items() if pd.api.types.is_string_dtype(content)]"
   ],
   "metadata": {
    "collapsed": false,
    "pycharm": {
     "name": "#%%\n"
    }
   }
  },
  {
   "cell_type": "code",
   "execution_count": null,
   "outputs": [],
   "source": [
    "# Convert all columns with string values into category values\n",
    "for label, content in d.items():\n",
    "    if pd.api.types.is_string_dtype(content):\n",
    "        d[label] = content.astype('category').cat.as_ordered()"
   ],
   "metadata": {
    "collapsed": false,
    "pycharm": {
     "name": "#%%\n"
    }
   }
  },
  {
   "cell_type": "code",
   "execution_count": null,
   "outputs": [],
   "source": [
    "d.info()"
   ],
   "metadata": {
    "collapsed": false,
    "pycharm": {
     "name": "#%%\n"
    }
   }
  },
  {
   "cell_type": "code",
   "execution_count": null,
   "outputs": [],
   "source": [
    "d.province.cat.categories"
   ],
   "metadata": {
    "collapsed": false,
    "pycharm": {
     "name": "#%%\n"
    }
   }
  },
  {
   "cell_type": "code",
   "execution_count": null,
   "outputs": [],
   "source": [
    "d.province.cat.codes"
   ],
   "metadata": {
    "collapsed": false,
    "pycharm": {
     "name": "#%%\n"
    }
   }
  },
  {
   "cell_type": "code",
   "execution_count": null,
   "outputs": [],
   "source": [
    "# Check missing data\n",
    "d.isnull().sum()/len(df)"
   ],
   "metadata": {
    "collapsed": false,
    "pycharm": {
     "name": "#%%\n"
    }
   }
  },
  {
   "cell_type": "code",
   "execution_count": null,
   "outputs": [],
   "source": [
    "# Check missing data\n",
    "d.isnull().sum()/len(df)"
   ],
   "metadata": {
    "collapsed": false,
    "pycharm": {
     "name": "#%%\n"
    }
   }
  },
  {
   "cell_type": "code",
   "execution_count": null,
   "outputs": [],
   "source": [
    "\n",
    "# Find the columns which contain strings\n",
    "[label for label, content in d.items() if pd.api.types.is_string_dtype(content)]"
   ],
   "metadata": {
    "collapsed": false,
    "pycharm": {
     "name": "#%%\n"
    }
   }
  },
  {
   "cell_type": "code",
   "execution_count": null,
   "outputs": [],
   "source": [
    "# Convert all columns with string values into category values\n",
    "for label, content in d.items():\n",
    "    if pd.api.types.is_string_dtype(content):\n",
    "        d[label] = content.astype('category').cat.as_ordered()"
   ],
   "metadata": {
    "collapsed": false,
    "pycharm": {
     "name": "#%%\n"
    }
   }
  },
  {
   "cell_type": "code",
   "execution_count": null,
   "outputs": [],
   "source": [
    "d.info()"
   ],
   "metadata": {
    "collapsed": false,
    "pycharm": {
     "name": "#%%\n"
    }
   }
  },
  {
   "cell_type": "code",
   "execution_count": null,
   "outputs": [],
   "source": [
    "d.province.cat.categories"
   ],
   "metadata": {
    "collapsed": false,
    "pycharm": {
     "name": "#%%\n"
    }
   }
  },
  {
   "cell_type": "code",
   "execution_count": null,
   "outputs": [],
   "source": [
    "d.province.cat.codes"
   ],
   "metadata": {
    "collapsed": false,
    "pycharm": {
     "name": "#%%\n"
    }
   }
  },
  {
   "cell_type": "code",
   "execution_count": null,
   "outputs": [],
   "source": [
    "# Check missing data\n",
    "d.isnull().sum()/len(d)"
   ],
   "metadata": {
    "collapsed": false,
    "pycharm": {
     "name": "#%%\n"
    }
   }
  },
  {
   "cell_type": "code",
   "execution_count": null,
   "outputs": [],
   "source": [
    "# Check missing data\n",
    "d.isnull().sum()/len(d)"
   ],
   "metadata": {
    "collapsed": false,
    "pycharm": {
     "name": "#%%\n"
    }
   }
  },
  {
   "cell_type": "code",
   "execution_count": null,
   "outputs": [],
   "source": [
    "\n",
    "# Find the columns which contain strings\n",
    "[label for label, content in boom_tmp.items() if pd.api.types.is_string_dtype(content)]"
   ],
   "metadata": {
    "collapsed": false,
    "pycharm": {
     "name": "#%%\n"
    }
   }
  },
  {
   "cell_type": "code",
   "execution_count": null,
   "outputs": [],
   "source": [
    "# Convert all columns with string values into category values\n",
    "for label, content in boom_tmp.items():\n",
    "    if pd.api.types.is_string_dtype(content):\n",
    "        boom_tmp[label] = content.astype('category').cat.as_ordered()"
   ],
   "metadata": {
    "collapsed": false,
    "pycharm": {
     "name": "#%%\n"
    }
   }
  },
  {
   "cell_type": "code",
   "execution_count": null,
   "outputs": [],
   "source": [
    "boom_tmp.info()"
   ],
   "metadata": {
    "collapsed": false,
    "pycharm": {
     "name": "#%%\n"
    }
   }
  },
  {
   "cell_type": "code",
   "execution_count": null,
   "outputs": [],
   "source": [
    "boom_tmp.province.cat.categories"
   ],
   "metadata": {
    "collapsed": false,
    "pycharm": {
     "name": "#%%\n"
    }
   }
  },
  {
   "cell_type": "code",
   "execution_count": null,
   "outputs": [],
   "source": [
    "boom_tmp.province.cat.codes"
   ],
   "metadata": {
    "collapsed": false,
    "pycharm": {
     "name": "#%%\n"
    }
   }
  },
  {
   "cell_type": "code",
   "execution_count": null,
   "outputs": [],
   "source": [
    "# Check missing data\n",
    "boom_tmp.isnull().sum()/len(boom_tmp)"
   ],
   "metadata": {
    "collapsed": false,
    "pycharm": {
     "name": "#%%\n"
    }
   }
  },
  {
   "cell_type": "code",
   "execution_count": null,
   "outputs": [],
   "source": [
    "# Check missing data\n",
    "boom_tmp.isnull().sum()/len(boom_tmp)"
   ],
   "metadata": {
    "collapsed": false,
    "pycharm": {
     "name": "#%%\n"
    }
   }
  },
  {
   "cell_type": "code",
   "execution_count": null,
   "outputs": [],
   "source": [
    "\n",
    "# Find the columns which contain strings\n",
    "[label for label, content in boom_tmp.items() if pd.api.types.is_string_dtype(content)]"
   ],
   "metadata": {
    "collapsed": false,
    "pycharm": {
     "name": "#%%\n"
    }
   }
  },
  {
   "cell_type": "code",
   "execution_count": null,
   "outputs": [],
   "source": [
    "# Convert all columns with string values into category values\n",
    "for label, content in boom_tmp.items():\n",
    "    if pd.api.types.is_string_dtype(content):\n",
    "        boom_tmp[label] = content.astype('category').cat.as_ordered()"
   ],
   "metadata": {
    "collapsed": false,
    "pycharm": {
     "name": "#%%\n"
    }
   }
  },
  {
   "cell_type": "code",
   "execution_count": null,
   "outputs": [],
   "source": [
    "boom_tmp.info()\n",
    "\n"
   ],
   "metadata": {
    "collapsed": false,
    "pycharm": {
     "name": "#%%\n"
    }
   }
  },
  {
   "cell_type": "code",
   "execution_count": null,
   "outputs": [],
   "source": [
    "boom_tmp.info()\n",
    "\n"
   ],
   "metadata": {
    "collapsed": false,
    "pycharm": {
     "name": "#%%\n"
    }
   }
  },
  {
   "cell_type": "code",
   "execution_count": null,
   "outputs": [],
   "source": [
    "\n",
    "# Find the columns which contain strings\n",
    "[label for label, content in boom_tmp.items() if pd.api.types.is_string_dtype(content)]\n",
    "\n"
   ],
   "metadata": {
    "collapsed": false,
    "pycharm": {
     "name": "#%%\n"
    }
   }
  },
  {
   "cell_type": "code",
   "execution_count": null,
   "outputs": [],
   "source": [
    "\n",
    "# Find the columns which contain strings\n",
    "[label for label, content in boom_tmp.items() if pd.api.types.is_string_dtype(content)]\n",
    "\n"
   ],
   "metadata": {
    "collapsed": false,
    "pycharm": {
     "name": "#%%\n"
    }
   }
  }
 ],
 "metadata": {
  "kernelspec": {
   "display_name": "Python 3",
   "language": "python",
   "name": "python3"
  },
  "language_info": {
   "codemirror_mode": {
    "name": "ipython",
    "version": 2
   },
   "file_extension": ".py",
   "mimetype": "text/x-python",
   "name": "python",
   "nbconvert_exporter": "python",
   "pygments_lexer": "ipython2",
   "version": "2.7.6"
  }
 },
 "nbformat": 4,
 "nbformat_minor": 0
}