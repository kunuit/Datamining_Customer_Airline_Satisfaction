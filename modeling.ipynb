{
  "nbformat": 4,
  "nbformat_minor": 0,
  "metadata": {
    "accelerator": "GPU",
    "colab": {
      "name": "modeling.ipynb",
      "provenance": [],
      "collapsed_sections": [
        "R490KiXe6X03",
        "sNX2MpU96X08"
      ],
      "toc_visible": true,
      "include_colab_link": true
    },
    "kernelspec": {
      "display_name": "Python 3",
      "language": "python",
      "name": "python3"
    },
    "language_info": {
      "codemirror_mode": {
        "name": "ipython",
        "version": 2
      },
      "file_extension": ".py",
      "mimetype": "text/x-python",
      "name": "python",
      "nbconvert_exporter": "python",
      "pygments_lexer": "ipython2",
      "version": "2.7.6"
    }
  },
  "cells": [
    {
      "cell_type": "markdown",
      "metadata": {
        "id": "view-in-github",
        "colab_type": "text"
      },
      "source": [
        "<a href=\"https://colab.research.google.com/github/kunuit/Datamining_Customer_Airline_Satisfaction/blob/master/modeling.ipynb\" target=\"_parent\"><img src=\"https://colab.research.google.com/assets/colab-badge.svg\" alt=\"Open In Colab\"/></a>"
      ]
    },
    {
      "cell_type": "code",
      "metadata": {
        "id": "iojQ0ODC6X0i"
      },
      "source": [
        "import pandas as pd\n",
        "import numpy as np\n",
        "import matplotlib.pyplot as plt\n",
        "import seaborn as sns; sns.set()\n",
        "import datetime as dt\n",
        "\n",
        "%matplotlib inline\n",
        "\n",
        "# Models from Scikit-Learn\n",
        "from sklearn.ensemble import RandomForestRegressor\n",
        "\n",
        "# Model Evaluations\n",
        "from sklearn.model_selection import cross_val_predict, cross_val_score, train_test_split, RandomizedSearchCV, GridSearchCV\n",
        "from sklearn.metrics import confusion_matrix, classification_report, mean_absolute_error, mean_squared_error, mean_squared_log_error, r2_score"
      ],
      "execution_count": null,
      "outputs": []
    },
    {
      "cell_type": "code",
      "metadata": {
        "colab": {
          "base_uri": "https://localhost:8080/"
        },
        "id": "EbKvj-FM6ms0",
        "outputId": "8fedd8c0-e277-4637-baac-d84b6657d09d"
      },
      "source": [
        "from google.colab import drive\n",
        "drive.mount('/content/drive')"
      ],
      "execution_count": null,
      "outputs": [
        {
          "output_type": "stream",
          "text": [
            "Drive already mounted at /content/drive; to attempt to forcibly remount, call drive.mount(\"/content/drive\", force_remount=True).\n"
          ],
          "name": "stdout"
        }
      ]
    },
    {
      "cell_type": "markdown",
      "metadata": {
        "collapsed": false,
        "id": "1tf08X0G6X0t"
      },
      "source": [
        "## MODELING"
      ]
    },
    {
      "cell_type": "code",
      "metadata": {
        "id": "FNOyL5xh6X0t"
      },
      "source": [
        "df = pd.read_csv('/content/drive/MyDrive/public subject/olap/cleaned_data.csv')"
      ],
      "execution_count": null,
      "outputs": []
    },
    {
      "cell_type": "code",
      "metadata": {
        "colab": {
          "base_uri": "https://localhost:8080/"
        },
        "id": "Bmp8BRbi6X0u",
        "outputId": "d181ec63-6c2d-435b-c035-97e549b62511"
      },
      "source": [
        "# Create X (Features Matrix)\n",
        "X = df.drop(\"satisfaction\", axis = 1)\n",
        "# Create y (labels)\n",
        "y = df[\"satisfaction\"]\n",
        "X.shape, y.shape"
      ],
      "execution_count": null,
      "outputs": [
        {
          "output_type": "execute_result",
          "data": {
            "text/plain": [
              "((129880, 28), (129880,))"
            ]
          },
          "metadata": {
            "tags": []
          },
          "execution_count": 4
        }
      ]
    },
    {
      "cell_type": "code",
      "metadata": {
        "id": "vV7paLm86X0v"
      },
      "source": [
        "from sklearn.model_selection import train_test_split\n",
        "# Split data into train and test sets\n",
        "np.random.seed(44)\n",
        "\n",
        "Xtrain, Xtest, ytrain, ytest = train_test_split(X, y, test_size=0.3)"
      ],
      "execution_count": null,
      "outputs": []
    },
    {
      "cell_type": "markdown",
      "metadata": {
        "collapsed": false,
        "id": "Emdgtcr26X0v"
      },
      "source": [
        "We're going to try _three_ different machine learning models:\n",
        "\n",
        "1. Logistic Regression\n",
        "2. K-Nearest Neighbors\n",
        "3. Random Forest"
      ]
    },
    {
      "cell_type": "code",
      "metadata": {
        "id": "G-nTSkrt6X0w"
      },
      "source": [
        "%matplotlib inline\n",
        "\n",
        "# Models from Scikit-Learn\n",
        "from sklearn.linear_model import LogisticRegression\n",
        "from sklearn.neighbors import KNeighborsClassifier\n",
        "from sklearn.ensemble import RandomForestClassifier\n",
        "\n",
        "# Model Evaluations\n",
        "from sklearn.model_selection import cross_val_predict, cross_val_score, train_test_split, RandomizedSearchCV, GridSearchCV\n",
        "from sklearn.metrics import confusion_matrix, classification_report, precision_score, f1_score, roc_curve, plot_roc_curve\n",
        "\n",
        "\n",
        "# Put models in a dictionary\n",
        "models = {'Logistic Regression': LogisticRegression(max_iter=1000),\n",
        "          'KNN': KNeighborsClassifier(),\n",
        "          'Random Forest': RandomForestClassifier()}\n",
        "\n",
        "# Create a function to fit and score models\n",
        "def fit_and_score(models, Xtrain, Xtest, ytrain, ytest):\n",
        "    \"\"\"\n",
        "    Fits and evaluates given machine learning models.\n",
        "    models: a dict of different Scikit-Learn machine learning models\n",
        "    Xtrain: training data (no labels)\n",
        "    Xtest: testing data (no labels)\n",
        "    ytrain: training labels\n",
        "    ytest: test labels\n",
        "    \"\"\"\n",
        "    # Set random seed\n",
        "    np.random.seed(44)\n",
        "    # Make a dictionary to keep model scores\n",
        "    model_scores = {}\n",
        "    for name, model in models.items():\n",
        "        # Fit the model to the data\n",
        "        model.fit(Xtrain, ytrain)\n",
        "        # evaluate model and append score\n",
        "        model_scores[name] = model.score(Xtest, ytest)\n",
        "    return model_scores"
      ],
      "execution_count": null,
      "outputs": []
    },
    {
      "cell_type": "code",
      "metadata": {
        "colab": {
          "base_uri": "https://localhost:8080/"
        },
        "id": "jPTFrYGJ6X0x",
        "outputId": "4015e299-8e99-4fad-ba8a-9755e9e4b437"
      },
      "source": [
        "model_scores = fit_and_score(models=models,\n",
        "                             Xtrain=Xtrain,\n",
        "                             Xtest=Xtest,\n",
        "                             ytrain=ytrain,\n",
        "                             ytest=ytest)\n",
        "model_scores"
      ],
      "execution_count": null,
      "outputs": [
        {
          "output_type": "execute_result",
          "data": {
            "text/plain": [
              "{'KNN': 0.8292783081819115,\n",
              " 'Logistic Regression': 0.7945539472333436,\n",
              " 'Random Forest': 0.9655322862129145}"
            ]
          },
          "metadata": {
            "tags": []
          },
          "execution_count": 7
        }
      ]
    },
    {
      "cell_type": "markdown",
      "metadata": {
        "collapsed": false,
        "id": "JvOIqMy66X0x"
      },
      "source": [
        "## Model Comparison"
      ]
    },
    {
      "cell_type": "code",
      "metadata": {
        "colab": {
          "base_uri": "https://localhost:8080/",
          "height": 271
        },
        "id": "vyChU5Xo6X0x",
        "outputId": "6e31ecc3-ad88-4f23-86a2-1042fd82c70a"
      },
      "source": [
        "model_compare = pd.DataFrame(model_scores, index=['accuracy'])\n",
        "model_compare.T.plot.bar()\n",
        "plt.xticks(rotation=1);"
      ],
      "execution_count": null,
      "outputs": [
        {
          "output_type": "display_data",
          "data": {
            "image/png": "[encoded data removed]",
            "text/plain": [
              "<Figure size 432x288 with 1 Axes>"
            ]
          },
          "metadata": {
            "tags": []
          }
        }
      ]
    },
    {
      "cell_type": "markdown",
      "metadata": {
        "collapsed": false,
        "id": "vWSlRiHJ6X0y"
      },
      "source": [
        "How to improve the baseline metrics?\n",
        "\n",
        "| classification | regression                     |\n",
        "| ---------------| -------------------------------|\n",
        "| **accuracy**   | **r^2**                        |\n",
        "| precision      | mean absolute error            |\n",
        "| recall         | maen squared error (MSE)       |\n",
        "| f1             | root mean squared error (RMSE) |\n",
        "\n",
        "Ideas:\n",
        "\n",
        "* hyperparameter tuning\n",
        "* feature importance\n",
        "* confusion matrix\n",
        "* precision\n",
        "* recall\n",
        "* f1 score\n",
        "* classification report\n",
        "* roc curve\n",
        "* area under the curve (AUC)"
      ]
    },
    {
      "cell_type": "markdown",
      "metadata": {
        "collapsed": false,
        "id": "SyeNjp7i6X0y"
      },
      "source": [
        "## Hyperparameter Tuning (by Hand)"
      ]
    },
    {
      "cell_type": "code",
      "metadata": {
        "id": "ejg0DB_f6X0z"
      },
      "source": [
        "# Tune KNN\n",
        "np.random.seed(44)\n",
        "\n",
        "train_scores = []\n",
        "test_scores = []\n",
        "\n",
        "# Create a list of different values for n_neighbors\n",
        "neighbors = range(1,21)\n",
        "\n",
        "# Setup KNN instance\n",
        "knn = KNeighborsClassifier()\n",
        "\n",
        "# Loop through different n_neighbors\n",
        "for i in neighbors:\n",
        "    knn.set_params(n_neighbors=i)\n",
        "\n",
        "    # Fit algorithm\n",
        "    knn.fit(Xtrain, ytrain)\n",
        "\n",
        "    # Update training scores list\n",
        "    train_scores.append(knn.score(Xtrain, ytrain))\n",
        "\n",
        "    # Update test_scores list\n",
        "    test_scores.append(knn.score(Xtest, ytest))"
      ],
      "execution_count": null,
      "outputs": []
    },
    {
      "cell_type": "code",
      "metadata": {
        "colab": {
          "base_uri": "https://localhost:8080/"
        },
        "id": "UhWyou5G6X0z",
        "outputId": "c5b99c8f-f046-42d3-80c3-ba9119182572"
      },
      "source": [
        "train_scores"
      ],
      "execution_count": null,
      "outputs": [
        {
          "output_type": "execute_result",
          "data": {
            "text/plain": [
              "[1.0,\n",
              " 0.9021404373267632,\n",
              " 0.9009635267719653,\n",
              " 0.881429011395134,\n",
              " 0.8806920674028774,\n",
              " 0.8731246425271679,\n",
              " 0.8722447094020854,\n",
              " 0.8674380747063223,\n",
              " 0.8674270755422588,\n",
              " 0.8630054115887192,\n",
              " 0.8629834132605922,\n",
              " 0.8602446214087729,\n",
              " 0.8602336222447095,\n",
              " 0.8588477275727044,\n",
              " 0.8588917242289587,\n",
              " 0.8572198512913018,\n",
              " 0.857428835408509,\n",
              " 0.8561309340490123,\n",
              " 0.8561749307052664,\n",
              " 0.8554159883848828]"
            ]
          },
          "metadata": {
            "tags": []
          },
          "execution_count": 10
        }
      ]
    },
    {
      "cell_type": "code",
      "metadata": {
        "colab": {
          "base_uri": "https://localhost:8080/"
        },
        "id": "Gtwvmy6N6X0z",
        "outputId": "d3d04df5-da42-48cd-daa8-6a13d9e03bfc"
      },
      "source": [
        "test_scores"
      ],
      "execution_count": null,
      "outputs": [
        {
          "output_type": "execute_result",
          "data": {
            "text/plain": [
              "[0.8012267734318859,\n",
              " 0.8102864182322144,\n",
              " 0.8201673339492865,\n",
              " 0.8290216610204291,\n",
              " 0.8292783081819115,\n",
              " 0.8371317113232728,\n",
              " 0.8346678985730418,\n",
              " 0.8397238476542449,\n",
              " 0.8376706703623857,\n",
              " 0.8413920542038805,\n",
              " 0.8393645416281696,\n",
              " 0.8424699722821065,\n",
              " 0.840262806693358,\n",
              " 0.8433425726311466,\n",
              " 0.8420593368237347,\n",
              " 0.8448567908838929,\n",
              " 0.8430089313212196,\n",
              " 0.8452674263422647,\n",
              " 0.8435992197926291,\n",
              " 0.8462170208397495]"
            ]
          },
          "metadata": {
            "tags": []
          },
          "execution_count": 11
        }
      ]
    },
    {
      "cell_type": "code",
      "metadata": {
        "colab": {
          "base_uri": "https://localhost:8080/",
          "height": 302
        },
        "id": "iqmKF8QM6X00",
        "outputId": "3f0b420d-066c-4114-8199-1db561060ca5"
      },
      "source": [
        "plt.plot(neighbors, train_scores, label='Train Scores')\n",
        "plt.plot(neighbors, test_scores, label='Test Scores')\n",
        "plt.xticks(np.arange(1,21,1))\n",
        "plt.xlabel('Number of neighbors')\n",
        "plt.ylabel('Model Score')\n",
        "plt.legend();\n",
        "\n",
        "print(f\"Maximum KNN score on test data: {max(test_scores)*100:.2f}%\")"
      ],
      "execution_count": null,
      "outputs": [
        {
          "output_type": "stream",
          "text": [
            "Maximum KNN score on test data: 84.62%\n"
          ],
          "name": "stdout"
        },
        {
          "output_type": "display_data",
          "data": {
            "image/png": "[encoded data removed]",
            "text/plain": [
              "<Figure size 432x288 with 1 Axes>"
            ]
          },
          "metadata": {
            "tags": []
          }
        }
      ]
    },
    {
      "cell_type": "markdown",
      "metadata": {
        "collapsed": false,
        "id": "HZzlXb-W6X00"
      },
      "source": [
        "## Hyperparamter Tuning with RandomizedSearchCV\n",
        "\n",
        "We're going to tune:\n",
        "* LogisticRegression\n",
        "* RandomForestClassifier"
      ]
    },
    {
      "cell_type": "markdown",
      "metadata": {
        "collapsed": false,
        "id": "Ztft6N3t6X00"
      },
      "source": [
        "### Tuning Logistic Regression"
      ]
    },
    {
      "cell_type": "code",
      "metadata": {
        "id": "LIFglk1J6X00"
      },
      "source": [
        "# Create a hyperparameter grid for LogisticRegression\n",
        "log_reg_grid = {'C': np.logspace(-4, 4, 20),\n",
        "                'penalty': ['l1', 'l2'],\n",
        "                'solver': ['liblinear']}\n",
        "\n",
        "# Create a hyperparameter grid for RandomClassifier\n",
        "rf_grid = {'n_estimators': np.arange(10, 1000, 50),\n",
        "           'max_depth': [None, 3, 5, 10],\n",
        "           'min_samples_split': np.arange(2, 20, 2),\n",
        "           'min_samples_leaf': np.arange(1, 20, 2)}"
      ],
      "execution_count": null,
      "outputs": []
    },
    {
      "cell_type": "code",
      "metadata": {
        "colab": {
          "base_uri": "https://localhost:8080/"
        },
        "id": "cBw7Oh-b6X01",
        "outputId": "acfc76e2-447f-4d8c-c60d-9e16b5f81568"
      },
      "source": [
        "# Tune Logistic Regression\n",
        "\n",
        "np.random.seed(44)\n",
        "\n",
        "# Setup random hyperparameter search for LogisticRegression\n",
        "rs_log_reg = RandomizedSearchCV(LogisticRegression(),\n",
        "                                param_distributions=log_reg_grid,\n",
        "                                cv=5,\n",
        "                                n_iter=20,\n",
        "                                verbose=True)\n",
        "\n",
        "# Fit random hyperparameter search model for Logistic Regression\n",
        "rs_log_reg.fit(Xtrain, ytrain)"
      ],
      "execution_count": null,
      "outputs": [
        {
          "output_type": "stream",
          "text": [
            "Fitting 5 folds for each of 20 candidates, totalling 100 fits\n"
          ],
          "name": "stdout"
        },
        {
          "output_type": "stream",
          "text": [
            "[Parallel(n_jobs=1)]: Using backend SequentialBackend with 1 concurrent workers.\n",
            "[Parallel(n_jobs=1)]: Done 100 out of 100 | elapsed:  2.3min finished\n"
          ],
          "name": "stderr"
        },
        {
          "output_type": "execute_result",
          "data": {
            "text/plain": [
              "RandomizedSearchCV(cv=5, error_score=nan,\n",
              "                   estimator=LogisticRegression(C=1.0, class_weight=None,\n",
              "                                                dual=False, fit_intercept=True,\n",
              "                                                intercept_scaling=1,\n",
              "                                                l1_ratio=None, max_iter=100,\n",
              "                                                multi_class='auto', n_jobs=None,\n",
              "                                                penalty='l2', random_state=None,\n",
              "                                                solver='lbfgs', tol=0.0001,\n",
              "                                                verbose=0, warm_start=False),\n",
              "                   iid='deprecated', n_iter=20, n_jobs=None,\n",
              "                   param_distributions={'C':...\n",
              "       4.83293024e-03, 1.27427499e-02, 3.35981829e-02, 8.85866790e-02,\n",
              "       2.33572147e-01, 6.15848211e-01, 1.62377674e+00, 4.28133240e+00,\n",
              "       1.12883789e+01, 2.97635144e+01, 7.84759970e+01, 2.06913808e+02,\n",
              "       5.45559478e+02, 1.43844989e+03, 3.79269019e+03, 1.00000000e+04]),\n",
              "                                        'penalty': ['l1', 'l2'],\n",
              "                                        'solver': ['liblinear']},\n",
              "                   pre_dispatch='2*n_jobs', random_state=None, refit=True,\n",
              "                   return_train_score=False, scoring=None, verbose=True)"
            ]
          },
          "metadata": {
            "tags": []
          },
          "execution_count": 14
        }
      ]
    },
    {
      "cell_type": "code",
      "metadata": {
        "colab": {
          "base_uri": "https://localhost:8080/"
        },
        "id": "qUA7IG846X02",
        "outputId": "bd303243-41dd-4338-f1f4-f7a834ba8d07"
      },
      "source": [
        "rs_log_reg.best_params_"
      ],
      "execution_count": null,
      "outputs": [
        {
          "output_type": "execute_result",
          "data": {
            "text/plain": [
              "{'C': 29.763514416313132, 'penalty': 'l1', 'solver': 'liblinear'}"
            ]
          },
          "metadata": {
            "tags": []
          },
          "execution_count": 15
        }
      ]
    },
    {
      "cell_type": "code",
      "metadata": {
        "colab": {
          "base_uri": "https://localhost:8080/"
        },
        "id": "xON6VdIM6X02",
        "outputId": "b76c5646-8b96-4538-ce23-26d5cba8137d"
      },
      "source": [
        "rs_log_reg.score(Xtest, ytest)"
      ],
      "execution_count": null,
      "outputs": [
        {
          "output_type": "execute_result",
          "data": {
            "text/plain": [
              "0.8368493994456422"
            ]
          },
          "metadata": {
            "tags": []
          },
          "execution_count": 16
        }
      ]
    },
    {
      "cell_type": "markdown",
      "metadata": {
        "collapsed": false,
        "id": "vuZNcmIG6X02"
      },
      "source": [
        "### Tuning Random Forest"
      ]
    },
    {
      "cell_type": "code",
      "metadata": {
        "colab": {
          "base_uri": "https://localhost:8080/"
        },
        "id": "tm71vFQs6X02",
        "outputId": "98f48e98-9f76-4c2f-85ba-b1a806d4e94b"
      },
      "source": [
        "# Tune Random Forest\n",
        "\n",
        "np.random.seed(44)\n",
        "\n",
        "# Setup random hyperparameter search for LogisticRegression\n",
        "rs_rf_reg = RandomizedSearchCV(RandomForestClassifier(),\n",
        "                               param_distributions=rf_grid,\n",
        "                               cv=5,\n",
        "                               n_iter=10,\n",
        "                               verbose=True)\n",
        "\n",
        "# Fit random hyperparameter search model for Logistic Regression\n",
        "rs_rf_reg.fit(Xtrain, ytrain)"
      ],
      "execution_count": null,
      "outputs": [
        {
          "output_type": "stream",
          "text": [
            "Fitting 5 folds for each of 10 candidates, totalling 50 fits\n"
          ],
          "name": "stdout"
        },
        {
          "output_type": "stream",
          "text": [
            "[Parallel(n_jobs=1)]: Using backend SequentialBackend with 1 concurrent workers.\n",
            "[Parallel(n_jobs=1)]: Done  50 out of  50 | elapsed: 22.2min finished\n"
          ],
          "name": "stderr"
        },
        {
          "output_type": "execute_result",
          "data": {
            "text/plain": [
              "RandomizedSearchCV(cv=5, error_score=nan,\n",
              "                   estimator=RandomForestClassifier(bootstrap=True,\n",
              "                                                    ccp_alpha=0.0,\n",
              "                                                    class_weight=None,\n",
              "                                                    criterion='gini',\n",
              "                                                    max_depth=None,\n",
              "                                                    max_features='auto',\n",
              "                                                    max_leaf_nodes=None,\n",
              "                                                    max_samples=None,\n",
              "                                                    min_impurity_decrease=0.0,\n",
              "                                                    min_impurity_split=None,\n",
              "                                                    min_samples_leaf=1,\n",
              "                                                    min_samples_split=2,\n",
              "                                                    min_weight_fraction_leaf=0.0,\n",
              "                                                    n_estimators=100,\n",
              "                                                    n_jobs...\n",
              "                   param_distributions={'max_depth': [None, 3, 5, 10],\n",
              "                                        'min_samples_leaf': array([ 1,  3,  5,  7,  9, 11, 13, 15, 17, 19]),\n",
              "                                        'min_samples_split': array([ 2,  4,  6,  8, 10, 12, 14, 16, 18]),\n",
              "                                        'n_estimators': array([ 10,  60, 110, 160, 210, 260, 310, 360, 410, 460, 510, 560, 610,\n",
              "       660, 710, 760, 810, 860, 910, 960])},\n",
              "                   pre_dispatch='2*n_jobs', random_state=None, refit=True,\n",
              "                   return_train_score=False, scoring=None, verbose=True)"
            ]
          },
          "metadata": {
            "tags": []
          },
          "execution_count": 17
        }
      ]
    },
    {
      "cell_type": "code",
      "metadata": {
        "colab": {
          "base_uri": "https://localhost:8080/"
        },
        "id": "pTvHrPTQ6X03",
        "outputId": "37263b9c-6f17-4fb6-ed65-cff0eeb4b760"
      },
      "source": [
        "rs_rf_reg.best_params_"
      ],
      "execution_count": null,
      "outputs": [
        {
          "output_type": "execute_result",
          "data": {
            "text/plain": [
              "{'max_depth': None,\n",
              " 'min_samples_leaf': 7,\n",
              " 'min_samples_split': 4,\n",
              " 'n_estimators': 560}"
            ]
          },
          "metadata": {
            "tags": []
          },
          "execution_count": 18
        }
      ]
    },
    {
      "cell_type": "code",
      "metadata": {
        "colab": {
          "base_uri": "https://localhost:8080/"
        },
        "id": "ZJdMUz3M6X03",
        "outputId": "91ab1903-0271-48b8-8793-88896e5d8f0b"
      },
      "source": [
        "# Evaluate the tuned model\n",
        "rs_rf_reg.score(Xtest, ytest)"
      ],
      "execution_count": null,
      "outputs": [
        {
          "output_type": "execute_result",
          "data": {
            "text/plain": [
              "0.9638384149471307"
            ]
          },
          "metadata": {
            "tags": []
          },
          "execution_count": 19
        }
      ]
    },
    {
      "cell_type": "markdown",
      "metadata": {
        "collapsed": false,
        "id": "R490KiXe6X03"
      },
      "source": [
        "### Compare hypertuned models"
      ]
    },
    {
      "cell_type": "code",
      "metadata": {
        "colab": {
          "background_save": true,
          "base_uri": "https://localhost:8080/"
        },
        "id": "t3bu5hBJ6X03",
        "outputId": "98bf59ee-cc50-4b78-f5e9-6f29eed24615"
      },
      "source": [
        "tuned_model_scores = fit_and_score(models={'RS Logistic Regression': rs_log_reg,\n",
        "                                           'RS Random Forest': rs_rf_reg},\n",
        "                                   Xtrain=Xtrain,\n",
        "                                   Xtest=Xtest,\n",
        "                                   ytrain=ytrain,\n",
        "                                   ytest=ytest)\n",
        "tuned_model_scores"
      ],
      "execution_count": null,
      "outputs": [
        {
          "output_type": "stream",
          "text": [
            "Fitting 5 folds for each of 20 candidates, totalling 100 fits\n"
          ],
          "name": "stdout"
        },
        {
          "output_type": "stream",
          "text": [
            "[Parallel(n_jobs=1)]: Using backend SequentialBackend with 1 concurrent workers.\n",
            "[Parallel(n_jobs=1)]: Done 100 out of 100 | elapsed:  2.4min finished\n"
          ],
          "name": "stderr"
        },
        {
          "output_type": "stream",
          "text": [
            "Fitting 5 folds for each of 10 candidates, totalling 50 fits\n"
          ],
          "name": "stdout"
        },
        {
          "output_type": "stream",
          "text": [
            "[Parallel(n_jobs=1)]: Using backend SequentialBackend with 1 concurrent workers.\n",
            "[Parallel(n_jobs=1)]: Done  50 out of  50 | elapsed: 26.3min finished\n"
          ],
          "name": "stderr"
        },
        {
          "output_type": "execute_result",
          "data": {
            "text/plain": [
              "{'RS Logistic Regression': 0.8368493994456422,\n",
              " 'RS Random Forest': 0.9647623447284673}"
            ]
          },
          "metadata": {
            "tags": []
          },
          "execution_count": 0
        }
      ]
    },
    {
      "cell_type": "code",
      "metadata": {
        "colab": {
          "background_save": true,
          "base_uri": "https://localhost:8080/"
        },
        "id": "nQLxnuY06X04",
        "outputId": "5323cb46-71ff-4345-bca2-292cdf00a332"
      },
      "source": [
        "tuned_model_compare = pd.DataFrame(tuned_model_scores, index=['accuracy'])\n",
        "tuned_model_compare.T.plot.bar()\n",
        "plt.xticks(rotation=1);"
      ],
      "execution_count": null,
      "outputs": [
        {
          "output_type": "display_data",
          "data": {
            "image/png": "[encoded data removed]",
            "text/plain": [
              "<Figure size 432x288 with 1 Axes>"
            ]
          },
          "metadata": {
            "tags": []
          }
        }
      ]
    },
    {
      "cell_type": "markdown",
      "metadata": {
        "collapsed": false,
        "id": "BsNk07J16X04"
      },
      "source": [
        "## Hyperparameter Tuning with GridSearchCV\n",
        "\n",
        "Since our Logisti Regression model provides the best scores so far, we'll try to improve the model further using GridSearchCV"
      ]
    },
    {
      "cell_type": "code",
      "metadata": {
        "colab": {
          "base_uri": "https://localhost:8080/"
        },
        "id": "gDllzQOB6X04",
        "outputId": "ea96fe72-6676-402a-ef8e-e59241f3a59b"
      },
      "source": [
        "# Create a hyperparameter grid for LogisticRegression with liblinear solver\n",
        "log_reg_libnear_grid = {'C': np.logspace(-4, 4, 30),\n",
        "                'penalty': ['l1', 'l2'],\n",
        "                'solver': ['liblinear']}\n",
        "\n",
        "# Setup grid hyperparameter search for LogisticRegression\n",
        "gs_log_reg_liblinear = GridSearchCV(LogisticRegression(),\n",
        "                          param_grid=log_reg_grid,\n",
        "                          cv=5,\n",
        "                          verbose=True)\n",
        "\n",
        "# Fit model\n",
        "gs_log_reg_liblinear.fit(Xtrain, ytrain)"
      ],
      "execution_count": null,
      "outputs": [
        {
          "output_type": "stream",
          "text": [
            "Fitting 5 folds for each of 40 candidates, totalling 200 fits\n"
          ],
          "name": "stdout"
        },
        {
          "output_type": "stream",
          "text": [
            "[Parallel(n_jobs=1)]: Using backend SequentialBackend with 1 concurrent workers.\n"
          ],
          "name": "stderr"
        }
      ]
    },
    {
      "cell_type": "code",
      "metadata": {
        "id": "soogsw9G6X04",
        "colab": {
          "base_uri": "https://localhost:8080/"
        },
        "outputId": "83f61ffa-98f5-4ff1-f6be-2d46420966e6"
      },
      "source": [
        "# Check best parameters\n",
        "gs_log_reg_liblinear.best_params_"
      ],
      "execution_count": null,
      "outputs": [
        {
          "output_type": "execute_result",
          "data": {
            "text/plain": [
              "{'C': 1.623776739188721, 'penalty': 'l1', 'solver': 'liblinear'}"
            ]
          },
          "metadata": {
            "tags": []
          },
          "execution_count": 23
        }
      ]
    },
    {
      "cell_type": "code",
      "metadata": {
        "id": "NctFFNuj6X05",
        "colab": {
          "base_uri": "https://localhost:8080/"
        },
        "outputId": "26fb9a49-e42a-4682-9499-52d21eff1744"
      },
      "source": [
        "# Evaluate grid search Logistic Regression model\n",
        "gs_log_reg_liblinear.score(Xtest, ytest)"
      ],
      "execution_count": null,
      "outputs": [
        {
          "output_type": "execute_result",
          "data": {
            "text/plain": [
              "0.8359254696643055"
            ]
          },
          "metadata": {
            "tags": []
          },
          "execution_count": 24
        }
      ]
    },
    {
      "cell_type": "code",
      "metadata": {
        "id": "evjGlL9B6X05",
        "colab": {
          "base_uri": "https://localhost:8080/"
        },
        "outputId": "b50d29a6-1589-4aa6-8887-f9cbed42c883"
      },
      "source": [
        "# Create a hyperparameter grid for LogisticRegression\n",
        "log_reg_libnear_grid = {'C': np.logspace(-4, 4, 30),\n",
        "                'penalty': ['l1', 'l2'],\n",
        "                'solver': ['liblinear']}\n",
        "\n",
        "# Setup grid hyperparameter search for LogisticRegression\n",
        "gs_log_reg_liblinear = GridSearchCV(LogisticRegression(),\n",
        "                          param_grid=log_reg_grid,\n",
        "                          cv=5,\n",
        "                          verbose=True)\n",
        "\n",
        "# Fit model\n",
        "gs_log_reg_liblinear.fit(Xtrain, ytrain)"
      ],
      "execution_count": null,
      "outputs": [
        {
          "output_type": "stream",
          "text": [
            "Fitting 5 folds for each of 40 candidates, totalling 200 fits\n"
          ],
          "name": "stdout"
        },
        {
          "output_type": "stream",
          "text": [
            "[Parallel(n_jobs=1)]: Using backend SequentialBackend with 1 concurrent workers.\n",
            "[Parallel(n_jobs=1)]: Done 200 out of 200 | elapsed:  4.5min finished\n"
          ],
          "name": "stderr"
        },
        {
          "output_type": "execute_result",
          "data": {
            "text/plain": [
              "GridSearchCV(cv=5, error_score=nan,\n",
              "             estimator=LogisticRegression(C=1.0, class_weight=None, dual=False,\n",
              "                                          fit_intercept=True,\n",
              "                                          intercept_scaling=1, l1_ratio=None,\n",
              "                                          max_iter=100, multi_class='auto',\n",
              "                                          n_jobs=None, penalty='l2',\n",
              "                                          random_state=None, solver='lbfgs',\n",
              "                                          tol=0.0001, verbose=0,\n",
              "                                          warm_start=False),\n",
              "             iid='deprecated', n_jobs=None,\n",
              "             param_grid={'C': array([1.00000000e-04, 2.6...\n",
              "       4.83293024e-03, 1.27427499e-02, 3.35981829e-02, 8.85866790e-02,\n",
              "       2.33572147e-01, 6.15848211e-01, 1.62377674e+00, 4.28133240e+00,\n",
              "       1.12883789e+01, 2.97635144e+01, 7.84759970e+01, 2.06913808e+02,\n",
              "       5.45559478e+02, 1.43844989e+03, 3.79269019e+03, 1.00000000e+04]),\n",
              "                         'penalty': ['l1', 'l2'], 'solver': ['liblinear']},\n",
              "             pre_dispatch='2*n_jobs', refit=True, return_train_score=False,\n",
              "             scoring=None, verbose=True)"
            ]
          },
          "metadata": {
            "tags": []
          },
          "execution_count": 25
        }
      ]
    },
    {
      "cell_type": "code",
      "metadata": {
        "id": "FuSbNZep6X05",
        "colab": {
          "base_uri": "https://localhost:8080/"
        },
        "outputId": "01bb8cf3-7b9b-4b12-b987-d8fd7b475c92"
      },
      "source": [
        "# Create a hyperparameter grid for LogisticRegression with lbfgs solver\n",
        "log_reg_libnear_grid = {'C': np.logspace(-4, 4, 30),\n",
        "                'penalty': [None, 'l2'],\n",
        "                'solver': ['lbfgs']}\n",
        "\n",
        "# Setup grid hyperparameter search for LogisticRegression\n",
        "gs_log_reg_lbfgs = GridSearchCV(LogisticRegression(),\n",
        "                          param_grid=log_reg_grid,\n",
        "                          cv=5,\n",
        "                          verbose=True)\n",
        "\n",
        "# Fit model\n",
        "gs_log_reg_lbfgs.fit(Xtrain, ytrain)"
      ],
      "execution_count": null,
      "outputs": [
        {
          "output_type": "stream",
          "text": [
            "Fitting 5 folds for each of 40 candidates, totalling 200 fits\n"
          ],
          "name": "stdout"
        },
        {
          "output_type": "stream",
          "text": [
            "[Parallel(n_jobs=1)]: Using backend SequentialBackend with 1 concurrent workers.\n",
            "[Parallel(n_jobs=1)]: Done 200 out of 200 | elapsed:  4.2min finished\n"
          ],
          "name": "stderr"
        },
        {
          "output_type": "execute_result",
          "data": {
            "text/plain": [
              "GridSearchCV(cv=5, error_score=nan,\n",
              "             estimator=LogisticRegression(C=1.0, class_weight=None, dual=False,\n",
              "                                          fit_intercept=True,\n",
              "                                          intercept_scaling=1, l1_ratio=None,\n",
              "                                          max_iter=100, multi_class='auto',\n",
              "                                          n_jobs=None, penalty='l2',\n",
              "                                          random_state=None, solver='lbfgs',\n",
              "                                          tol=0.0001, verbose=0,\n",
              "                                          warm_start=False),\n",
              "             iid='deprecated', n_jobs=None,\n",
              "             param_grid={'C': array([1.00000000e-04, 2.6...\n",
              "       4.83293024e-03, 1.27427499e-02, 3.35981829e-02, 8.85866790e-02,\n",
              "       2.33572147e-01, 6.15848211e-01, 1.62377674e+00, 4.28133240e+00,\n",
              "       1.12883789e+01, 2.97635144e+01, 7.84759970e+01, 2.06913808e+02,\n",
              "       5.45559478e+02, 1.43844989e+03, 3.79269019e+03, 1.00000000e+04]),\n",
              "                         'penalty': ['l1', 'l2'], 'solver': ['liblinear']},\n",
              "             pre_dispatch='2*n_jobs', refit=True, return_train_score=False,\n",
              "             scoring=None, verbose=True)"
            ]
          },
          "metadata": {
            "tags": []
          },
          "execution_count": 26
        }
      ]
    },
    {
      "cell_type": "code",
      "metadata": {
        "id": "WZszafAC6X06",
        "colab": {
          "base_uri": "https://localhost:8080/"
        },
        "outputId": "320c47a6-1fdd-47d0-cb6d-5cd0bec55cbd"
      },
      "source": [
        "gs_log_reg_lbfgs.best_params_"
      ],
      "execution_count": null,
      "outputs": [
        {
          "output_type": "execute_result",
          "data": {
            "text/plain": [
              "{'C': 1438.44988828766, 'penalty': 'l1', 'solver': 'liblinear'}"
            ]
          },
          "metadata": {
            "tags": []
          },
          "execution_count": 27
        }
      ]
    },
    {
      "cell_type": "code",
      "metadata": {
        "id": "Ws-YH91K6X06",
        "colab": {
          "base_uri": "https://localhost:8080/"
        },
        "outputId": "e768b3a2-16f0-41da-d68c-e15147810647"
      },
      "source": [
        "gs_log_reg_lbfgs.score(Xtest, ytest)"
      ],
      "execution_count": null,
      "outputs": [
        {
          "output_type": "execute_result",
          "data": {
            "text/plain": [
              "0.8366954111487527"
            ]
          },
          "metadata": {
            "tags": []
          },
          "execution_count": 28
        }
      ]
    },
    {
      "cell_type": "code",
      "metadata": {
        "id": "kObL9JVL6X06",
        "colab": {
          "base_uri": "https://localhost:8080/"
        },
        "outputId": "de1586a7-6093-49bc-cfdf-e45524ac9fb5"
      },
      "source": [
        "rs_model_scores = fit_and_score(models={'Baseline Logistic Regression': LogisticRegression(max_iter=1000),\n",
        "                                        'RS Log. Regression': rs_log_reg,\n",
        "                                        'Grid Search with liblinear': gs_log_reg_liblinear,\n",
        "                                        'Grid Search with lbfgs': gs_log_reg_lbfgs},\n",
        "                                   Xtrain=Xtrain,\n",
        "                                   Xtest=Xtest,\n",
        "                                   ytrain=ytrain,\n",
        "                                   ytest=ytest)\n",
        "rs_model_scores"
      ],
      "execution_count": null,
      "outputs": [
        {
          "output_type": "stream",
          "text": [
            "Fitting 5 folds for each of 20 candidates, totalling 100 fits\n"
          ],
          "name": "stdout"
        },
        {
          "output_type": "stream",
          "text": [
            "[Parallel(n_jobs=1)]: Using backend SequentialBackend with 1 concurrent workers.\n",
            "[Parallel(n_jobs=1)]: Done 100 out of 100 | elapsed:  2.3min finished\n"
          ],
          "name": "stderr"
        },
        {
          "output_type": "stream",
          "text": [
            "Fitting 5 folds for each of 40 candidates, totalling 200 fits\n"
          ],
          "name": "stdout"
        },
        {
          "output_type": "stream",
          "text": [
            "[Parallel(n_jobs=1)]: Using backend SequentialBackend with 1 concurrent workers.\n",
            "[Parallel(n_jobs=1)]: Done 200 out of 200 | elapsed:  4.4min finished\n"
          ],
          "name": "stderr"
        },
        {
          "output_type": "stream",
          "text": [
            "Fitting 5 folds for each of 40 candidates, totalling 200 fits\n"
          ],
          "name": "stdout"
        },
        {
          "output_type": "stream",
          "text": [
            "[Parallel(n_jobs=1)]: Using backend SequentialBackend with 1 concurrent workers.\n",
            "[Parallel(n_jobs=1)]: Done 200 out of 200 | elapsed:  4.2min finished\n"
          ],
          "name": "stderr"
        },
        {
          "output_type": "execute_result",
          "data": {
            "text/plain": [
              "{'Baseline Logistic Regression': 0.7945539472333436,\n",
              " 'Grid Search with lbfgs': 0.8367980700133456,\n",
              " 'Grid Search with liblinear': 0.8369263935940868,\n",
              " 'RS Log. Regression': 0.8368493994456422}"
            ]
          },
          "metadata": {
            "tags": []
          },
          "execution_count": 29
        }
      ]
    },
    {
      "cell_type": "code",
      "metadata": {
        "id": "3ge-mvuT6X06",
        "colab": {
          "base_uri": "https://localhost:8080/",
          "height": 415
        },
        "outputId": "83ec2ee8-8e1f-43ad-bd3c-9b9cfd49d4a7"
      },
      "source": [
        "rs_model_compare = pd.DataFrame(rs_model_scores, index=['accuracy'])\n",
        "rs_model_compare.T.plot.bar();"
      ],
      "execution_count": null,
      "outputs": [
        {
          "output_type": "display_data",
          "data": {
            "image/png": "[encoded data removed]",
            "text/plain": [
              "<Figure size 432x288 with 1 Axes>"
            ]
          },
          "metadata": {
            "tags": [],
            "needs_background": "light"
          }
        }
      ]
    },
    {
      "cell_type": "markdown",
      "metadata": {
        "collapsed": false,
        "id": "Akw2WKvF6X07"
      },
      "source": [
        "## Evaluating tuned machine learning classifier, beyond accuracy\n",
        "\n",
        "* ROC curve, AUC curve\n",
        "* Confusion matrix\n",
        "* Classificatoin report\n",
        "* Precision\n",
        "* Recall\n",
        "* F1-score\n",
        "\n",
        "... with cross-validation where possible.\n",
        "\n",
        "To make comparions and evaluate our trained model, we need to make predictions first."
      ]
    },
    {
      "cell_type": "markdown",
      "metadata": {
        "collapsed": false,
        "id": "5uUre24j6X07"
      },
      "source": [
        "### ROC curve and AUC metric"
      ]
    },
    {
      "cell_type": "code",
      "metadata": {
        "id": "dHhDP7Md6X07"
      },
      "source": [
        "# Make predictions with best tuned model on test/train-split data-\n",
        "ypreds = rs_log_reg.predict(Xtest)"
      ],
      "execution_count": null,
      "outputs": []
    },
    {
      "cell_type": "code",
      "metadata": {
        "id": "gVPjhKI06X08",
        "colab": {
          "base_uri": "https://localhost:8080/",
          "height": 285
        },
        "outputId": "eed565ef-70db-4514-8b24-5cadc86b99cc"
      },
      "source": [
        "# Plot ROC curve and calculate AUC metric\n",
        "plot_roc_curve(rs_log_reg, Xtest, ytest);"
      ],
      "execution_count": null,
      "outputs": [
        {
          "output_type": "display_data",
          "data": {
            "image/png": "[encoded data removed]",
            "text/plain": [
              "<Figure size 432x288 with 1 Axes>"
            ]
          },
          "metadata": {
            "tags": [],
            "needs_background": "light"
          }
        }
      ]
    },
    {
      "cell_type": "markdown",
      "metadata": {
        "collapsed": false,
        "id": "2-UmCEA66X08"
      },
      "source": [
        "### Confusion Matrix"
      ]
    },
    {
      "cell_type": "code",
      "metadata": {
        "id": "qR77hdol6X08"
      },
      "source": [
        "# Confusion matrix\n",
        "cm = confusion_matrix(ytest, ypreds)"
      ],
      "execution_count": null,
      "outputs": []
    },
    {
      "cell_type": "code",
      "metadata": {
        "id": "4uhDxKJV6X08",
        "colab": {
          "base_uri": "https://localhost:8080/",
          "height": 295
        },
        "outputId": "1444c39c-bb8d-434f-b7af-ae81bf8bc3e5"
      },
      "source": [
        "# Plot confusion matrix\n",
        "sns.set(font_scale=1.4)\n",
        "sns.heatmap(cm.T, annot=True, fmt='d', annot_kws={\"size\": 16}, square=True, cbar=False)\n",
        "plt.xlabel('actual')\n",
        "plt.ylabel('predictions');"
      ],
      "execution_count": null,
      "outputs": [
        {
          "output_type": "display_data",
          "data": {
            "image/png": "[encoded data removed]",
            "text/plain": [
              "<Figure size 432x288 with 1 Axes>"
            ]
          },
          "metadata": {
            "tags": []
          }
        }
      ]
    },
    {
      "cell_type": "markdown",
      "metadata": {
        "collapsed": false,
        "id": "sNX2MpU96X08"
      },
      "source": [
        "### Classifiction Report"
      ]
    },
    {
      "cell_type": "code",
      "metadata": {
        "id": "dF1qcVEX6X09",
        "colab": {
          "base_uri": "https://localhost:8080/"
        },
        "outputId": "db04fac9-db24-4efb-d531-5b7cad930639"
      },
      "source": [
        "# Classification Report on train/test-split data\n",
        "print(classification_report(ytest, ypreds))"
      ],
      "execution_count": null,
      "outputs": [
        {
          "output_type": "stream",
          "text": [
            "              precision    recall  f1-score   support\n",
            "\n",
            "           1       0.82      0.82      0.82     17676\n",
            "           2       0.85      0.85      0.85     21288\n",
            "\n",
            "    accuracy                           0.84     38964\n",
            "   macro avg       0.84      0.84      0.84     38964\n",
            "weighted avg       0.84      0.84      0.84     38964\n",
            "\n"
          ],
          "name": "stdout"
        }
      ]
    },
    {
      "cell_type": "markdown",
      "metadata": {
        "collapsed": false,
        "id": "nRwv_VFv6X09"
      },
      "source": [
        "### Cross-validated evaluation metrics"
      ]
    },
    {
      "cell_type": "code",
      "metadata": {
        "id": "l4YFXPlJ6X09",
        "colab": {
          "base_uri": "https://localhost:8080/"
        },
        "outputId": "12d8888c-9e55-4b95-f5fa-a968a633f6f4"
      },
      "source": [
        "# Check best hyperparameters\n",
        "rs_log_reg.best_params_"
      ],
      "execution_count": null,
      "outputs": [
        {
          "output_type": "execute_result",
          "data": {
            "text/plain": [
              "{'C': 29.763514416313132, 'penalty': 'l1', 'solver': 'liblinear'}"
            ]
          },
          "metadata": {
            "tags": []
          },
          "execution_count": 36
        }
      ]
    },
    {
      "cell_type": "code",
      "metadata": {
        "id": "cyWYeOu16X09"
      },
      "source": [
        "# Create a new classifier with best parameters\n",
        "clf = LogisticRegression(C=29.763514416313132,\n",
        "                         solver='liblinear',\n",
        "                         penalty='l1')"
      ],
      "execution_count": null,
      "outputs": []
    },
    {
      "cell_type": "code",
      "metadata": {
        "id": "YgSU60X46X09"
      },
      "source": [
        "def average_metric(clf, X, y, scoring):\n",
        "    \"\"\"\n",
        "    Returns the average score on each scoring metric, rounded to 2 decimals.\n",
        "    clf: scikit-learn classification\n",
        "    X: features (no labels)\n",
        "    y: labels\n",
        "    scoring: scoring metric\n",
        "    \"\"\"\n",
        "    return round((np.mean(cross_val_score(clf, X, y, cv=5, scoring=scoring))), 2)\n",
        "\n",
        "\n",
        "def average_score_on_cross_val_classification(clf, X, y):\n",
        "    \"\"\"\n",
        "    Evaluates a given model/estimator using cross-validation (5 folds)\n",
        "    and returns a dict containing the average (mean) scores\n",
        "    for classification models\n",
        "\n",
        "    clf: scikit-learn classification\n",
        "    X: features (no labels)\n",
        "    y: labels\n",
        "    \"\"\"\n",
        "    metrics = ['accuracy', 'precision', 'recall', 'f1']\n",
        "    scores = {metric: average_metric(clf, X, y, metric) for metric in metrics}\n",
        "\n",
        "    return scores"
      ],
      "execution_count": null,
      "outputs": []
    },
    {
      "cell_type": "code",
      "metadata": {
        "id": "_N6gwVZF6X0-",
        "colab": {
          "base_uri": "https://localhost:8080/"
        },
        "outputId": "9d7467e7-a8b9-4184-ab14-a48334933963"
      },
      "source": [
        "cv_metrics = average_score_on_cross_val_classification(clf, X, y)\n",
        "cv_metrics"
      ],
      "execution_count": null,
      "outputs": [
        {
          "output_type": "execute_result",
          "data": {
            "text/plain": [
              "{'accuracy': 0.68, 'f1': 0.62, 'precision': 0.73, 'recall': 0.65}"
            ]
          },
          "metadata": {
            "tags": []
          },
          "execution_count": 39
        }
      ]
    },
    {
      "cell_type": "code",
      "metadata": {
        "id": "ImPLYd_k6X0-",
        "colab": {
          "base_uri": "https://localhost:8080/",
          "height": 347
        },
        "outputId": "216b12e7-9ad1-4790-991b-97c3cc3053c0"
      },
      "source": [
        "# Create visualization\n",
        "cv_metrics_df = pd.DataFrame(cv_metrics, index=[0])\n",
        "\n",
        "cv_metrics_df.T.plot.bar(title='Cross-validated classification metrics',\n",
        "                         legend=False);\n"
      ],
      "execution_count": null,
      "outputs": [
        {
          "output_type": "display_data",
          "data": {
            "image/png": "[encoded data removed]",
            "text/plain": [
              "<Figure size 432x288 with 1 Axes>"
            ]
          },
          "metadata": {
            "tags": []
          }
        }
      ]
    },
    {
      "cell_type": "code",
      "metadata": {
        "id": "tnRFMM3T6X0-"
      },
      "source": [
        ""
      ],
      "execution_count": null,
      "outputs": []
    }
  ]
}